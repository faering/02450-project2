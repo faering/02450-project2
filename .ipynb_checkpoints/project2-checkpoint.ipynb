{
 "cells": [
  {
   "cell_type": "markdown",
   "metadata": {},
   "source": [
    "# Load data"
   ]
  },
  {
   "cell_type": "code",
   "execution_count": 1,
   "metadata": {
    "collapsed": true
   },
   "outputs": [],
   "source": [
    "import pandas as pd\n",
    "import seaborn as sns\n",
    "import missingno as msno\n",
    "import matplotlib.pyplot as plt\n",
    "import numpy as np"
   ]
  },
  {
   "cell_type": "code",
   "execution_count": 2,
   "metadata": {
    "scrolled": true
   },
   "outputs": [
    {
     "data": {
      "text/html": [
       "<div>\n",
       "<style>\n",
       "    .dataframe thead tr:only-child th {\n",
       "        text-align: right;\n",
       "    }\n",
       "\n",
       "    .dataframe thead th {\n",
       "        text-align: left;\n",
       "    }\n",
       "\n",
       "    .dataframe tbody tr th {\n",
       "        vertical-align: top;\n",
       "    }\n",
       "</style>\n",
       "<table border=\"1\" class=\"dataframe\">\n",
       "  <thead>\n",
       "    <tr style=\"text-align: right;\">\n",
       "      <th></th>\n",
       "      <th>color</th>\n",
       "      <th>director_name</th>\n",
       "      <th>num_critic_for_reviews</th>\n",
       "      <th>duration</th>\n",
       "      <th>director_facebook_likes</th>\n",
       "      <th>actor_3_facebook_likes</th>\n",
       "      <th>actor_2_name</th>\n",
       "      <th>actor_1_facebook_likes</th>\n",
       "      <th>gross</th>\n",
       "      <th>genres</th>\n",
       "      <th>...</th>\n",
       "      <th>num_user_for_reviews</th>\n",
       "      <th>language</th>\n",
       "      <th>country</th>\n",
       "      <th>content_rating</th>\n",
       "      <th>budget</th>\n",
       "      <th>title_year</th>\n",
       "      <th>actor_2_facebook_likes</th>\n",
       "      <th>imdb_score</th>\n",
       "      <th>aspect_ratio</th>\n",
       "      <th>movie_facebook_likes</th>\n",
       "    </tr>\n",
       "  </thead>\n",
       "  <tbody>\n",
       "    <tr>\n",
       "      <th>0</th>\n",
       "      <td>Color</td>\n",
       "      <td>James Cameron</td>\n",
       "      <td>723.0</td>\n",
       "      <td>178.0</td>\n",
       "      <td>0.0</td>\n",
       "      <td>855.0</td>\n",
       "      <td>Joel David Moore</td>\n",
       "      <td>1000.0</td>\n",
       "      <td>760505847.0</td>\n",
       "      <td>Action|Adventure|Fantasy|Sci-Fi</td>\n",
       "      <td>...</td>\n",
       "      <td>3054.0</td>\n",
       "      <td>English</td>\n",
       "      <td>USA</td>\n",
       "      <td>PG-13</td>\n",
       "      <td>237000000.0</td>\n",
       "      <td>2009.0</td>\n",
       "      <td>936.0</td>\n",
       "      <td>7.9</td>\n",
       "      <td>1.78</td>\n",
       "      <td>33000</td>\n",
       "    </tr>\n",
       "    <tr>\n",
       "      <th>1</th>\n",
       "      <td>Color</td>\n",
       "      <td>Gore Verbinski</td>\n",
       "      <td>302.0</td>\n",
       "      <td>169.0</td>\n",
       "      <td>563.0</td>\n",
       "      <td>1000.0</td>\n",
       "      <td>Orlando Bloom</td>\n",
       "      <td>40000.0</td>\n",
       "      <td>309404152.0</td>\n",
       "      <td>Action|Adventure|Fantasy</td>\n",
       "      <td>...</td>\n",
       "      <td>1238.0</td>\n",
       "      <td>English</td>\n",
       "      <td>USA</td>\n",
       "      <td>PG-13</td>\n",
       "      <td>300000000.0</td>\n",
       "      <td>2007.0</td>\n",
       "      <td>5000.0</td>\n",
       "      <td>7.1</td>\n",
       "      <td>2.35</td>\n",
       "      <td>0</td>\n",
       "    </tr>\n",
       "    <tr>\n",
       "      <th>2</th>\n",
       "      <td>Color</td>\n",
       "      <td>Sam Mendes</td>\n",
       "      <td>602.0</td>\n",
       "      <td>148.0</td>\n",
       "      <td>0.0</td>\n",
       "      <td>161.0</td>\n",
       "      <td>Rory Kinnear</td>\n",
       "      <td>11000.0</td>\n",
       "      <td>200074175.0</td>\n",
       "      <td>Action|Adventure|Thriller</td>\n",
       "      <td>...</td>\n",
       "      <td>994.0</td>\n",
       "      <td>English</td>\n",
       "      <td>UK</td>\n",
       "      <td>PG-13</td>\n",
       "      <td>245000000.0</td>\n",
       "      <td>2015.0</td>\n",
       "      <td>393.0</td>\n",
       "      <td>6.8</td>\n",
       "      <td>2.35</td>\n",
       "      <td>85000</td>\n",
       "    </tr>\n",
       "    <tr>\n",
       "      <th>3</th>\n",
       "      <td>Color</td>\n",
       "      <td>Christopher Nolan</td>\n",
       "      <td>813.0</td>\n",
       "      <td>164.0</td>\n",
       "      <td>22000.0</td>\n",
       "      <td>23000.0</td>\n",
       "      <td>Christian Bale</td>\n",
       "      <td>27000.0</td>\n",
       "      <td>448130642.0</td>\n",
       "      <td>Action|Thriller</td>\n",
       "      <td>...</td>\n",
       "      <td>2701.0</td>\n",
       "      <td>English</td>\n",
       "      <td>USA</td>\n",
       "      <td>PG-13</td>\n",
       "      <td>250000000.0</td>\n",
       "      <td>2012.0</td>\n",
       "      <td>23000.0</td>\n",
       "      <td>8.5</td>\n",
       "      <td>2.35</td>\n",
       "      <td>164000</td>\n",
       "    </tr>\n",
       "    <tr>\n",
       "      <th>4</th>\n",
       "      <td>NaN</td>\n",
       "      <td>Doug Walker</td>\n",
       "      <td>NaN</td>\n",
       "      <td>NaN</td>\n",
       "      <td>131.0</td>\n",
       "      <td>NaN</td>\n",
       "      <td>Rob Walker</td>\n",
       "      <td>131.0</td>\n",
       "      <td>NaN</td>\n",
       "      <td>Documentary</td>\n",
       "      <td>...</td>\n",
       "      <td>NaN</td>\n",
       "      <td>NaN</td>\n",
       "      <td>NaN</td>\n",
       "      <td>NaN</td>\n",
       "      <td>NaN</td>\n",
       "      <td>NaN</td>\n",
       "      <td>12.0</td>\n",
       "      <td>7.1</td>\n",
       "      <td>NaN</td>\n",
       "      <td>0</td>\n",
       "    </tr>\n",
       "  </tbody>\n",
       "</table>\n",
       "<p>5 rows × 28 columns</p>\n",
       "</div>"
      ],
      "text/plain": [
       "   color      director_name  num_critic_for_reviews  duration  \\\n",
       "0  Color      James Cameron                   723.0     178.0   \n",
       "1  Color     Gore Verbinski                   302.0     169.0   \n",
       "2  Color         Sam Mendes                   602.0     148.0   \n",
       "3  Color  Christopher Nolan                   813.0     164.0   \n",
       "4    NaN        Doug Walker                     NaN       NaN   \n",
       "\n",
       "   director_facebook_likes  actor_3_facebook_likes      actor_2_name  \\\n",
       "0                      0.0                   855.0  Joel David Moore   \n",
       "1                    563.0                  1000.0     Orlando Bloom   \n",
       "2                      0.0                   161.0      Rory Kinnear   \n",
       "3                  22000.0                 23000.0    Christian Bale   \n",
       "4                    131.0                     NaN        Rob Walker   \n",
       "\n",
       "   actor_1_facebook_likes        gross                           genres  \\\n",
       "0                  1000.0  760505847.0  Action|Adventure|Fantasy|Sci-Fi   \n",
       "1                 40000.0  309404152.0         Action|Adventure|Fantasy   \n",
       "2                 11000.0  200074175.0        Action|Adventure|Thriller   \n",
       "3                 27000.0  448130642.0                  Action|Thriller   \n",
       "4                   131.0          NaN                      Documentary   \n",
       "\n",
       "          ...          num_user_for_reviews language  country  content_rating  \\\n",
       "0         ...                        3054.0  English      USA           PG-13   \n",
       "1         ...                        1238.0  English      USA           PG-13   \n",
       "2         ...                         994.0  English       UK           PG-13   \n",
       "3         ...                        2701.0  English      USA           PG-13   \n",
       "4         ...                           NaN      NaN      NaN             NaN   \n",
       "\n",
       "        budget  title_year actor_2_facebook_likes imdb_score  aspect_ratio  \\\n",
       "0  237000000.0      2009.0                  936.0        7.9          1.78   \n",
       "1  300000000.0      2007.0                 5000.0        7.1          2.35   \n",
       "2  245000000.0      2015.0                  393.0        6.8          2.35   \n",
       "3  250000000.0      2012.0                23000.0        8.5          2.35   \n",
       "4          NaN         NaN                   12.0        7.1           NaN   \n",
       "\n",
       "  movie_facebook_likes  \n",
       "0                33000  \n",
       "1                    0  \n",
       "2                85000  \n",
       "3               164000  \n",
       "4                    0  \n",
       "\n",
       "[5 rows x 28 columns]"
      ]
     },
     "execution_count": 2,
     "metadata": {},
     "output_type": "execute_result"
    }
   ],
   "source": [
    "df = pd.Series()\n",
    "df['raw'] = pd.read_csv('./data/movie_metadata.csv')\n",
    "df['raw'].head()"
   ]
  },
  {
   "cell_type": "markdown",
   "metadata": {},
   "source": [
    "# Pre processing"
   ]
  },
  {
   "cell_type": "code",
   "execution_count": 3,
   "metadata": {},
   "outputs": [
    {
     "name": "stdout",
     "output_type": "stream",
     "text": [
      "Amount of lines containing N/A:\t\t2698\n",
      "Percent of lines containing N/A:\t53.50%\n"
     ]
    }
   ],
   "source": [
    "print('Amount of lines containing N/A:\\t\\t{}'.format(df['raw'].isnull().values.sum()))\n",
    "print('Percent of lines containing N/A:\\t{:.2f}%'.format(100*df['raw'].isnull().values.sum()/df['raw'].shape[0]))"
   ]
  },
  {
   "cell_type": "code",
   "execution_count": 4,
   "metadata": {},
   "outputs": [
    {
     "data": {
      "image/png": "[encoded data removed]",
      "text/plain": [
       "<matplotlib.figure.Figure at 0x231015ccac8>"
      ]
     },
     "metadata": {},
     "output_type": "display_data"
    }
   ],
   "source": [
    "msno.matrix(df['raw'],figsize=(10,8))"
   ]
  },
  {
   "cell_type": "markdown",
   "metadata": {},
   "source": [
    "The N/A mostly lies in the actor 1 facebook likes column and the budget column.  \n",
    "The approach will be to investigate the result of just removing lines, and the result when the 2  columns mentioned above is removed before the N/A lines are removed.  \n",
    "Also the link to imdb should be removed."
   ]
  },
  {
   "cell_type": "code",
   "execution_count": 5,
   "metadata": {
    "scrolled": true
   },
   "outputs": [
    {
     "name": "stdout",
     "output_type": "stream",
     "text": [
      "Before columns are removed\n",
      "Amount of lines containing N/A:\t\t2698\n",
      "Percent of lines containing N/A:\t53.50%\n",
      "\n",
      "After columns are removed\n",
      "Amount of lines containing N/A:\t\t2206\n",
      "Percent of lines containing N/A:\t43.74%\n"
     ]
    }
   ],
   "source": [
    "del df['raw']['movie_imdb_link']\n",
    "del df['raw']['movie_title']\n",
    "df['no_na_row'] = df['raw'].dropna()\n",
    "df['no_na_col'] = pd.DataFrame.copy(df['raw'])\n",
    "del df['no_na_col']['budget']\n",
    "\n",
    "#Removing actor 1 facebook likes turn out to help very little.\n",
    "#del df['no_na_col']['actor_1_facebook_likes']del df['no_na_col']['budget']del df['no_na_col']['budget']del df['no_na_col']['budget']\n",
    "\n",
    "\n",
    "print('Before columns are removed')\n",
    "print('Amount of lines containing N/A:\\t\\t{}'.format(df['raw'].isnull().values.sum()))\n",
    "print('Percent of lines containing N/A:\\t{:.2f}%'.format(100*df['raw'].isnull().values.sum()/df['raw'].shape[0]))\n",
    "print('\\nAfter columns are removed')\n",
    "print('Amount of lines containing N/A:\\t\\t{}'.format(df['no_na_col'].isnull().values.sum()))\n",
    "print('Percent of lines containing N/A:\\t{:.2f}%'.format(100*df['no_na_col'].isnull().values.sum()/df['no_na_col'].shape[0]))\n",
    "\n",
    "df['no_na_col'] = df['no_na_col'].dropna()"
   ]
  },
  {
   "cell_type": "markdown",
   "metadata": {},
   "source": [
    "Now the data is cleaned, the text features should be k-coded"
   ]
  },
  {
   "cell_type": "code",
   "execution_count": 6,
   "metadata": {},
   "outputs": [
    {
     "name": "stderr",
     "output_type": "stream",
     "text": [
      "C:\\Users\\bok\\Anaconda3\\lib\\site-packages\\ipykernel_launcher.py:6: SettingWithCopyWarning: \n",
      "A value is trying to be set on a copy of a slice from a DataFrame.\n",
      "Try using .loc[row_indexer,col_indexer] = value instead\n",
      "\n",
      "See the caveats in the documentation: http://pandas.pydata.org/pandas-docs/stable/indexing.html#indexing-view-versus-copy\n",
      "  \n"
     ]
    }
   ],
   "source": [
    "#find all numeric column labels\n",
    "numeric_columns = df['no_na_row'].select_dtypes(include=[np.number]).columns.tolist()\n",
    "\n",
    "#standardize each column\n",
    "for column in numeric_columns:\n",
    "    df['no_na_row'][column] = ((df['no_na_row'][column]-df['no_na_row'][column].mean())/df['no_na_row'][column].std())\n",
    "\n",
    "\n",
    "numeric_columns = df['no_na_col'].select_dtypes(include=[np.number]).columns.tolist()\n",
    "for column in numeric_columns:\n",
    "    df['no_na_col'][column] = ((df['no_na_col'][column]-df['no_na_col'][column].mean())/df['no_na_col'][column].std())\n",
    "\n"
   ]
  },
  {
   "cell_type": "code",
   "execution_count": 7,
   "metadata": {
    "scrolled": false
   },
   "outputs": [
    {
     "data": {
      "text/plain": [
       "color                                                                    Color\n",
       "director_name                                                Christopher Nolan\n",
       "num_critic_for_reviews                                                 5.22974\n",
       "duration                                                               2.37306\n",
       "director_facebook_likes                                                6.90726\n",
       "actor_3_facebook_likes                                                 11.7348\n",
       "actor_2_name                                                    Christian Bale\n",
       "actor_1_facebook_likes                                                  1.2403\n",
       "gross                                                                  5.62471\n",
       "genres                                                         Action|Thriller\n",
       "actor_1_name                                                         Tom Hardy\n",
       "num_voted_users                                                        6.83071\n",
       "cast_total_facebook_likes                                              4.98018\n",
       "actor_3_name                                              Joseph Gordon-Levitt\n",
       "facenumber_in_poster                                                  -0.67462\n",
       "plot_keywords                deception|imprisonment|lawlessness|police offi...\n",
       "num_user_for_reviews                                                   5.74903\n",
       "language                                                               English\n",
       "country                                                                    USA\n",
       "content_rating                                                           PG-13\n",
       "budget                                                                0.901566\n",
       "title_year                                                            0.912554\n",
       "actor_2_facebook_likes                                                 4.61576\n",
       "imdb_score                                                             1.92637\n",
       "aspect_ratio                                                          0.676883\n",
       "movie_facebook_likes                                                   7.20528\n",
       "Name: 3, dtype: object"
      ]
     },
     "execution_count": 7,
     "metadata": {},
     "output_type": "execute_result"
    }
   ],
   "source": [
    "df['no_na_row'].loc[3]"
   ]
  },
  {
   "cell_type": "markdown",
   "metadata": {},
   "source": [
    "Removed columns:  \n",
    "IMDB_link  \n",
    "movie_title \n"
   ]
  },
  {
   "cell_type": "code",
   "execution_count": 8,
   "metadata": {},
   "outputs": [
    {
     "data": {
      "text/plain": [
       "Color               3632\n",
       " Black and White     124\n",
       "Name: color, dtype: int64"
      ]
     },
     "execution_count": 8,
     "metadata": {},
     "output_type": "execute_result"
    }
   ],
   "source": [
    "df['no_na_row']['color'].value_counts().head()"
   ]
  },
  {
   "cell_type": "code",
   "execution_count": 9,
   "metadata": {
    "scrolled": true
   },
   "outputs": [
    {
     "name": "stderr",
     "output_type": "stream",
     "text": [
      "C:\\Users\\bok\\Anaconda3\\lib\\site-packages\\ipykernel_launcher.py:4: SettingWithCopyWarning: \n",
      "A value is trying to be set on a copy of a slice from a DataFrame.\n",
      "Try using .loc[row_indexer,col_indexer] = value instead\n",
      "\n",
      "See the caveats in the documentation: http://pandas.pydata.org/pandas-docs/stable/indexing.html#indexing-view-versus-copy\n",
      "  after removing the cwd from sys.path.\n"
     ]
    }
   ],
   "source": [
    "#Maps atribute color as one hot notation \n",
    "d = {'Color': 1, ' Black and White': 0}\n",
    "df['no_na_col']['color'] = df['no_na_col']['color'].map(d)\n",
    "df['no_na_row']['color'] = df['no_na_row']['color'].map(d)\n",
    "df['no_na_col'] = df['no_na_col'].loc[: , ~df['no_na_col'].columns.duplicated()]\n",
    "df['no_na_row'] = df['no_na_row'].loc[: , ~df['no_na_row'].columns.duplicated()]\n",
    "\n",
    "#Maps single column in one hot notation\n",
    "df['no_na_row'] = pd.concat([df['no_na_row'],df['no_na_row']['language'].str.get_dummies()],axis=1)\n",
    "df['no_na_row'] = pd.concat([df['no_na_row'],df['no_na_row']['country'].str.get_dummies()],axis=1)\n",
    "df['no_na_row'] = pd.concat([df['no_na_row'],df['no_na_row']['content_rating'].str.get_dummies()],axis=1)\n",
    "df['no_na_col'] = pd.concat([df['no_na_col'],df['no_na_col']['language'].str.get_dummies()],axis=1)\n",
    "df['no_na_col'] = pd.concat([df['no_na_col'],df['no_na_col']['country'].str.get_dummies()],axis=1)\n",
    "df['no_na_col'] = pd.concat([df['no_na_col'],df['no_na_col']['content_rating'].str.get_dummies()],axis=1)\n",
    "\n",
    "#Maps multiword attribute to one hot notation\n",
    "df['no_na_row'] = pd.concat([df['no_na_row'], df['no_na_row']['plot_keywords'].str.get_dummies(sep='|')],axis=1)\n",
    "df['no_na_row'] = pd.concat([df['no_na_row'], df['no_na_row']['genres'].str.get_dummies(sep='|')],axis=1)\n",
    "df['no_na_col'] = pd.concat([df['no_na_col'], df['no_na_col']['plot_keywords'].str.get_dummies(sep='|')],axis=1)\n",
    "df['no_na_col'] = pd.concat([df['no_na_col'], df['no_na_col']['genres'].str.get_dummies(sep='|')],axis=1)\n",
    "\n",
    "#Maps multiple columns (actor 1,2,3) into \"was he in the movie\" one hot notation\n",
    "df['no_na_row'] = pd.concat([df['no_na_row'],df['no_na_row']['actor_2_name'].map(str).str.cat(df['no_na_row']['actor_1_name'].map(str),sep='|').str.cat(df['no_na_row']['actor_3_name'].map(str),sep='|').str.get_dummies(sep='|')],axis=1)\n",
    "df['no_na_col'] = pd.concat([df['no_na_col'],df['no_na_col']['actor_2_name'].map(str).str.cat(df['no_na_col']['actor_1_name'].map(str),sep='|').str.cat(df['no_na_col']['actor_3_name'].map(str),sep='|').str.get_dummies(sep='|')],axis=1)\n",
    "\n",
    "#clean up\n",
    "df['no_na_col'] = df['no_na_col'].drop(['genres','plot_keywords','actor_1_name','actor_2_name','actor_3_name','language',\n",
    "                    'country','content_rating' ],axis=1)\n",
    "df['no_na_row'] = df['no_na_row'].drop(['genres','plot_keywords','actor_1_name','actor_2_name','actor_3_name','language',\n",
    "                    'country','content_rating'],axis=1)"
   ]
  },
  {
   "cell_type": "markdown",
   "metadata": {},
   "source": [
    "For clustering, a version is made with a column \"is steven spielberg director\", and for the regression, a one hut of the directors are made."
   ]
  },
  {
   "cell_type": "code",
   "execution_count": 10,
   "metadata": {
    "collapsed": true
   },
   "outputs": [],
   "source": [
    "#copy the dataframe to two new dataframes\n",
    "df['c_no_na_row'] = pd.DataFrame.copy(df['no_na_row'])\n",
    "df['c_no_na_col'] = pd.DataFrame.copy(df['no_na_col'])\n",
    "\n",
    "\n",
    "#onehut of the director name for the row versions\n",
    "df['c_no_na_row']['SS_director'] = (df['no_na_row']['director_name'].str.contains('Steven Spielberg', na=0))\n",
    "df['r_no_na_row'] = pd.concat([df['no_na_row'], pd.get_dummies(df['no_na_row']['director_name'],prefix='Director_')], axis=1)\n",
    "\n",
    "#onehot of the director for the column versions\n",
    "df['c_no_na_col']['SS_director']=(df['no_na_col']['director_name'].str.contains('Steven Spielberg', na=0))\n",
    "df['r_no_na_col'] = pd.concat([df['no_na_col'], pd.get_dummies(df['no_na_col']['director_name'],prefix='Direcor_')], axis=1)\n",
    "\n",
    "#change false/true to 0/1\n",
    "df['c_no_na_col']['SS_director'] = df['c_no_na_col']['SS_director'].astype(int)\n",
    "df['c_no_na_row']['SS_director'] = df['c_no_na_row']['SS_director'].astype(int)\n",
    "\n",
    "# drop column director name\n",
    "del df['r_no_na_col']['director_name']\n",
    "del df['c_no_na_col']['director_name']\n",
    "del df['r_no_na_row']['director_name']\n",
    "del df['c_no_na_row']['director_name']\n",
    "\n",
    "# delete duplicate coler row\n",
    "df['r_no_na_col'] = df['r_no_na_col'].loc[: , ~df['r_no_na_col'].columns.duplicated()]\n",
    "df['r_no_na_row'] = df['r_no_na_row'].loc[: , ~df['r_no_na_row'].columns.duplicated()]\n"
   ]
  },
  {
   "cell_type": "markdown",
   "metadata": {},
   "source": [
    "Steven Spielberg is the director which occours most frequently in the dataset. It will be the focus to for the clustering, to cluster whether or not he directed the movie. There will be created 2 datasets, one for clustering and one for the regression part. One dataset will consist of a "
   ]
  },
  {
   "cell_type": "code",
   "execution_count": 11,
   "metadata": {},
   "outputs": [
    {
     "data": {
      "text/plain": [
       "(3975, 11777)"
      ]
     },
     "execution_count": 11,
     "metadata": {},
     "output_type": "execute_result"
    }
   ],
   "source": [
    "df['c_no_na_col'].shape"
   ]
  },
  {
   "cell_type": "code",
   "execution_count": 12,
   "metadata": {},
   "outputs": [
    {
     "data": {
      "text/plain": [
       "0"
      ]
     },
     "execution_count": 12,
     "metadata": {},
     "output_type": "execute_result"
    }
   ],
   "source": [
    "df['c_no_na_col'].isnull().values.sum()"
   ]
  },
  {
   "cell_type": "code",
   "execution_count": 13,
   "metadata": {},
   "outputs": [
    {
     "data": {
      "image/png": "[encoded data removed]",
      "text/plain": [
       "<matplotlib.figure.Figure at 0x2310158c668>"
      ]
     },
     "metadata": {},
     "output_type": "display_data"
    }
   ],
   "source": [
    "msno.matrix(df['c_no_na_col'])"
   ]
  },
  {
   "cell_type": "markdown",
   "metadata": {},
   "source": [
    "# Regression"
   ]
  },
  {
   "cell_type": "markdown",
   "metadata": {},
   "source": [
    "## Problem formulation\n",
    "Describe the problem you want to solve."
   ]
  },
  {
   "cell_type": "markdown",
   "metadata": {},
   "source": [
    "## Apply linear regression with forward selection\n",
    "Is transforming or combining attributes useful?\n",
    "- It can be useful to plot the residual error vs. the attribute."
   ]
  },
  {
   "cell_type": "markdown",
   "metadata": {},
   "source": [
    "## Explain how a new observation is predicted\n",
    "- Normalize"
   ]
  },
  {
   "cell_type": "markdown",
   "metadata": {},
   "source": [
    "## Neural network model fitting"
   ]
  },
  {
   "cell_type": "markdown",
   "metadata": {},
   "source": [
    "## Performance evalutation\n",
    "Neural network vs. linear regression\n",
    "- Use a paired t-test as described in lesson 6"
   ]
  },
  {
   "cell_type": "markdown",
   "metadata": {},
   "source": [
    "# Classification"
   ]
  },
  {
   "cell_type": "markdown",
   "metadata": {},
   "source": [
    "## Problem formulation\n",
    "For the classification, we will try to clasify wether steven spielberg was the director of the movie, or not.  \n",
    "The following three methods will be used for this:\n",
    "Decision Trees, K-Nearest Neighbors (KNN), Artificial Neural Networks (ANN).\n",
    "\n"
   ]
  },
  {
   "cell_type": "markdown",
   "metadata": {},
   "source": [
    "## Apply three of the given methods\n",
    "Two level cross validation\n"
   ]
  },
  {
   "cell_type": "markdown",
   "metadata": {},
   "source": [
    "### Decision trees"
   ]
  },
  {
   "cell_type": "code",
   "execution_count": 14,
   "metadata": {},
   "outputs": [
    {
     "data": {
      "text/plain": [
       "0"
      ]
     },
     "execution_count": 14,
     "metadata": {},
     "output_type": "execute_result"
    }
   ],
   "source": [
    "df['c_no_na_col'].isnull().values.sum()"
   ]
  },
  {
   "cell_type": "code",
   "execution_count": 48,
   "metadata": {},
   "outputs": [],
   "source": [
    "from sklearn.model_selection import train_test_split\n",
    "X_train, X_test, y_train, y_test = train_test_split(df['c_no_na_col'].iloc[:, df['c_no_na_col'].columns != 'SS_director'],\n",
    "                                                    df['c_no_na_col']['SS_director'], \n",
    "                                                    test_size=0.25)"
   ]
  },
  {
   "cell_type": "code",
   "execution_count": 49,
   "metadata": {},
   "outputs": [],
   "source": [
    "from sklearn import tree\n",
    "\n",
    "# set X and y values\n",
    "#X = pd.DataFrame([[0, 0], [1, 1]])\n",
    "#Y = pd.DataFrame(df['c_no_na_col'].shape)\n",
    "\n",
    "# clasify\n",
    "clf = tree.DecisionTreeClassifier()\n",
    "clf = clf.fit(X_train, y_train)\n",
    "\n",
    "#predict\n",
    "y_pred = clf.predict(X_test)\n"
   ]
  },
  {
   "cell_type": "code",
   "execution_count": 50,
   "metadata": {
    "scrolled": false
   },
   "outputs": [
    {
     "data": {
      "image/svg+xml": [
       "<?xml version=\"1.0\" encoding=\"UTF-8\" standalone=\"no\"?>\r\n",
       "<!DOCTYPE svg PUBLIC \"-//W3C//DTD SVG 1.1//EN\"\r\n",
       " \"http://www.w3.org/Graphics/SVG/1.1/DTD/svg11.dtd\">\r\n",
       "<!-- Generated by graphviz version 2.38.0 (20140413.2041)\r\n",
       " -->\r\n",
       "<!-- Title: Tree Pages: 1 -->\r\n",
       "<svg width=\"297pt\" height=\"477pt\"\r\n",
       " viewBox=\"0.00 0.00 296.50 477.00\" xmlns=\"http://www.w3.org/2000/svg\" xmlns:xlink=\"http://www.w3.org/1999/xlink\">\r\n",
       "<g id=\"graph0\" class=\"graph\" transform=\"scale(1 1) rotate(0) translate(4 473)\">\r\n",
       "<title>Tree</title>\r\n",
       "<polygon fill=\"white\" stroke=\"none\" points=\"-4,4 -4,-473 292.5,-473 292.5,4 -4,4\"/>\r\n",
       "<!-- 0 -->\r\n",
       "<g id=\"node1\" class=\"node\"><title>0</title>\r\n",
       "<polygon fill=\"none\" stroke=\"black\" points=\"177.5,-469 59.5,-469 59.5,-401 177.5,-401 177.5,-469\"/>\r\n",
       "<text text-anchor=\"middle\" x=\"118.5\" y=\"-453.8\" font-family=\"Times New Roman,serif\" font-size=\"14.00\">X[3] &lt;= 4.228</text>\r\n",
       "<text text-anchor=\"middle\" x=\"118.5\" y=\"-438.8\" font-family=\"Times New Roman,serif\" font-size=\"14.00\">gini = 0.011</text>\r\n",
       "<text text-anchor=\"middle\" x=\"118.5\" y=\"-423.8\" font-family=\"Times New Roman,serif\" font-size=\"14.00\">samples = 2981</text>\r\n",
       "<text text-anchor=\"middle\" x=\"118.5\" y=\"-408.8\" font-family=\"Times New Roman,serif\" font-size=\"14.00\">value = [2965, 16]</text>\r\n",
       "</g>\r\n",
       "<!-- 1 -->\r\n",
       "<g id=\"node2\" class=\"node\"><title>1</title>\r\n",
       "<polygon fill=\"none\" stroke=\"black\" points=\"111,-357.5 0,-357.5 0,-304.5 111,-304.5 111,-357.5\"/>\r\n",
       "<text text-anchor=\"middle\" x=\"55.5\" y=\"-342.3\" font-family=\"Times New Roman,serif\" font-size=\"14.00\">gini = 0.0</text>\r\n",
       "<text text-anchor=\"middle\" x=\"55.5\" y=\"-327.3\" font-family=\"Times New Roman,serif\" font-size=\"14.00\">samples = 2910</text>\r\n",
       "<text text-anchor=\"middle\" x=\"55.5\" y=\"-312.3\" font-family=\"Times New Roman,serif\" font-size=\"14.00\">value = [2910, 0]</text>\r\n",
       "</g>\r\n",
       "<!-- 0&#45;&gt;1 -->\r\n",
       "<g id=\"edge1\" class=\"edge\"><title>0&#45;&gt;1</title>\r\n",
       "<path fill=\"none\" stroke=\"black\" d=\"M98.0457,-400.884C91.185,-389.776 83.5238,-377.372 76.6136,-366.184\"/>\r\n",
       "<polygon fill=\"black\" stroke=\"black\" points=\"79.4951,-364.189 71.2623,-357.52 73.5395,-367.867 79.4951,-364.189\"/>\r\n",
       "<text text-anchor=\"middle\" x=\"65.5117\" y=\"-378.15\" font-family=\"Times New Roman,serif\" font-size=\"14.00\">True</text>\r\n",
       "</g>\r\n",
       "<!-- 2 -->\r\n",
       "<g id=\"node3\" class=\"node\"><title>2</title>\r\n",
       "<polygon fill=\"none\" stroke=\"black\" points=\"233.5,-365 129.5,-365 129.5,-297 233.5,-297 233.5,-365\"/>\r\n",
       "<text text-anchor=\"middle\" x=\"181.5\" y=\"-349.8\" font-family=\"Times New Roman,serif\" font-size=\"14.00\">X[3] &lt;= 4.56</text>\r\n",
       "<text text-anchor=\"middle\" x=\"181.5\" y=\"-334.8\" font-family=\"Times New Roman,serif\" font-size=\"14.00\">gini = 0.349</text>\r\n",
       "<text text-anchor=\"middle\" x=\"181.5\" y=\"-319.8\" font-family=\"Times New Roman,serif\" font-size=\"14.00\">samples = 71</text>\r\n",
       "<text text-anchor=\"middle\" x=\"181.5\" y=\"-304.8\" font-family=\"Times New Roman,serif\" font-size=\"14.00\">value = [55, 16]</text>\r\n",
       "</g>\r\n",
       "<!-- 0&#45;&gt;2 -->\r\n",
       "<g id=\"edge2\" class=\"edge\"><title>0&#45;&gt;2</title>\r\n",
       "<path fill=\"none\" stroke=\"black\" d=\"M138.954,-400.884C144.236,-392.332 149.992,-383.013 155.514,-374.072\"/>\r\n",
       "<polygon fill=\"black\" stroke=\"black\" points=\"158.656,-375.647 160.933,-365.299 152.7,-371.968 158.656,-375.647\"/>\r\n",
       "<text text-anchor=\"middle\" x=\"166.683\" y=\"-385.929\" font-family=\"Times New Roman,serif\" font-size=\"14.00\">False</text>\r\n",
       "</g>\r\n",
       "<!-- 3 -->\r\n",
       "<g id=\"node4\" class=\"node\"><title>3</title>\r\n",
       "<polygon fill=\"none\" stroke=\"black\" points=\"172.5,-261 74.5,-261 74.5,-193 172.5,-193 172.5,-261\"/>\r\n",
       "<text text-anchor=\"middle\" x=\"123.5\" y=\"-245.8\" font-family=\"Times New Roman,serif\" font-size=\"14.00\">X[1] &lt;= 2.58</text>\r\n",
       "<text text-anchor=\"middle\" x=\"123.5\" y=\"-230.8\" font-family=\"Times New Roman,serif\" font-size=\"14.00\">gini = 0.266</text>\r\n",
       "<text text-anchor=\"middle\" x=\"123.5\" y=\"-215.8\" font-family=\"Times New Roman,serif\" font-size=\"14.00\">samples = 19</text>\r\n",
       "<text text-anchor=\"middle\" x=\"123.5\" y=\"-200.8\" font-family=\"Times New Roman,serif\" font-size=\"14.00\">value = [3, 16]</text>\r\n",
       "</g>\r\n",
       "<!-- 2&#45;&gt;3 -->\r\n",
       "<g id=\"edge3\" class=\"edge\"><title>2&#45;&gt;3</title>\r\n",
       "<path fill=\"none\" stroke=\"black\" d=\"M162.669,-296.884C157.807,-288.332 152.508,-279.013 147.423,-270.072\"/>\r\n",
       "<polygon fill=\"black\" stroke=\"black\" points=\"150.421,-268.262 142.435,-261.299 144.335,-271.722 150.421,-268.262\"/>\r\n",
       "</g>\r\n",
       "<!-- 8 -->\r\n",
       "<g id=\"node9\" class=\"node\"><title>8</title>\r\n",
       "<polygon fill=\"none\" stroke=\"black\" points=\"288.5,-253.5 190.5,-253.5 190.5,-200.5 288.5,-200.5 288.5,-253.5\"/>\r\n",
       "<text text-anchor=\"middle\" x=\"239.5\" y=\"-238.3\" font-family=\"Times New Roman,serif\" font-size=\"14.00\">gini = 0.0</text>\r\n",
       "<text text-anchor=\"middle\" x=\"239.5\" y=\"-223.3\" font-family=\"Times New Roman,serif\" font-size=\"14.00\">samples = 52</text>\r\n",
       "<text text-anchor=\"middle\" x=\"239.5\" y=\"-208.3\" font-family=\"Times New Roman,serif\" font-size=\"14.00\">value = [52, 0]</text>\r\n",
       "</g>\r\n",
       "<!-- 2&#45;&gt;8 -->\r\n",
       "<g id=\"edge8\" class=\"edge\"><title>2&#45;&gt;8</title>\r\n",
       "<path fill=\"none\" stroke=\"black\" d=\"M200.331,-296.884C206.585,-285.886 213.561,-273.617 219.873,-262.517\"/>\r\n",
       "<polygon fill=\"black\" stroke=\"black\" points=\"223.088,-263.943 224.989,-253.52 217.003,-260.483 223.088,-263.943\"/>\r\n",
       "</g>\r\n",
       "<!-- 4 -->\r\n",
       "<g id=\"node5\" class=\"node\"><title>4</title>\r\n",
       "<polygon fill=\"none\" stroke=\"black\" points=\"113.5,-149.5 15.5,-149.5 15.5,-96.5 113.5,-96.5 113.5,-149.5\"/>\r\n",
       "<text text-anchor=\"middle\" x=\"64.5\" y=\"-134.3\" font-family=\"Times New Roman,serif\" font-size=\"14.00\">gini = 0.0</text>\r\n",
       "<text text-anchor=\"middle\" x=\"64.5\" y=\"-119.3\" font-family=\"Times New Roman,serif\" font-size=\"14.00\">samples = 15</text>\r\n",
       "<text text-anchor=\"middle\" x=\"64.5\" y=\"-104.3\" font-family=\"Times New Roman,serif\" font-size=\"14.00\">value = [0, 15]</text>\r\n",
       "</g>\r\n",
       "<!-- 3&#45;&gt;4 -->\r\n",
       "<g id=\"edge4\" class=\"edge\"><title>3&#45;&gt;4</title>\r\n",
       "<path fill=\"none\" stroke=\"black\" d=\"M104.344,-192.884C97.9193,-181.776 90.7445,-169.372 84.273,-158.184\"/>\r\n",
       "<polygon fill=\"black\" stroke=\"black\" points=\"87.2983,-156.424 79.2615,-149.52 81.2389,-159.929 87.2983,-156.424\"/>\r\n",
       "</g>\r\n",
       "<!-- 5 -->\r\n",
       "<g id=\"node6\" class=\"node\"><title>5</title>\r\n",
       "<polygon fill=\"none\" stroke=\"black\" points=\"235.5,-157 131.5,-157 131.5,-89 235.5,-89 235.5,-157\"/>\r\n",
       "<text text-anchor=\"middle\" x=\"183.5\" y=\"-141.8\" font-family=\"Times New Roman,serif\" font-size=\"14.00\">X[4916] &lt;= 0.5</text>\r\n",
       "<text text-anchor=\"middle\" x=\"183.5\" y=\"-126.8\" font-family=\"Times New Roman,serif\" font-size=\"14.00\">gini = 0.375</text>\r\n",
       "<text text-anchor=\"middle\" x=\"183.5\" y=\"-111.8\" font-family=\"Times New Roman,serif\" font-size=\"14.00\">samples = 4</text>\r\n",
       "<text text-anchor=\"middle\" x=\"183.5\" y=\"-96.8\" font-family=\"Times New Roman,serif\" font-size=\"14.00\">value = [3, 1]</text>\r\n",
       "</g>\r\n",
       "<!-- 3&#45;&gt;5 -->\r\n",
       "<g id=\"edge5\" class=\"edge\"><title>3&#45;&gt;5</title>\r\n",
       "<path fill=\"none\" stroke=\"black\" d=\"M142.98,-192.884C148.01,-184.332 153.492,-175.013 158.752,-166.072\"/>\r\n",
       "<polygon fill=\"black\" stroke=\"black\" points=\"161.859,-167.693 163.912,-157.299 155.825,-164.144 161.859,-167.693\"/>\r\n",
       "</g>\r\n",
       "<!-- 6 -->\r\n",
       "<g id=\"node7\" class=\"node\"><title>6</title>\r\n",
       "<polygon fill=\"none\" stroke=\"black\" points=\"174,-53 83,-53 83,-0 174,-0 174,-53\"/>\r\n",
       "<text text-anchor=\"middle\" x=\"128.5\" y=\"-37.8\" font-family=\"Times New Roman,serif\" font-size=\"14.00\">gini = 0.0</text>\r\n",
       "<text text-anchor=\"middle\" x=\"128.5\" y=\"-22.8\" font-family=\"Times New Roman,serif\" font-size=\"14.00\">samples = 3</text>\r\n",
       "<text text-anchor=\"middle\" x=\"128.5\" y=\"-7.8\" font-family=\"Times New Roman,serif\" font-size=\"14.00\">value = [3, 0]</text>\r\n",
       "</g>\r\n",
       "<!-- 5&#45;&gt;6 -->\r\n",
       "<g id=\"edge6\" class=\"edge\"><title>5&#45;&gt;6</title>\r\n",
       "<path fill=\"none\" stroke=\"black\" d=\"M164.264,-88.9485C159.206,-80.2579 153.736,-70.8608 148.633,-62.0917\"/>\r\n",
       "<polygon fill=\"black\" stroke=\"black\" points=\"151.534,-60.1189 143.479,-53.2367 145.484,-63.6401 151.534,-60.1189\"/>\r\n",
       "</g>\r\n",
       "<!-- 7 -->\r\n",
       "<g id=\"node8\" class=\"node\"><title>7</title>\r\n",
       "<polygon fill=\"none\" stroke=\"black\" points=\"283,-53 192,-53 192,-0 283,-0 283,-53\"/>\r\n",
       "<text text-anchor=\"middle\" x=\"237.5\" y=\"-37.8\" font-family=\"Times New Roman,serif\" font-size=\"14.00\">gini = 0.0</text>\r\n",
       "<text text-anchor=\"middle\" x=\"237.5\" y=\"-22.8\" font-family=\"Times New Roman,serif\" font-size=\"14.00\">samples = 1</text>\r\n",
       "<text text-anchor=\"middle\" x=\"237.5\" y=\"-7.8\" font-family=\"Times New Roman,serif\" font-size=\"14.00\">value = [0, 1]</text>\r\n",
       "</g>\r\n",
       "<!-- 5&#45;&gt;7 -->\r\n",
       "<g id=\"edge7\" class=\"edge\"><title>5&#45;&gt;7</title>\r\n",
       "<path fill=\"none\" stroke=\"black\" d=\"M202.387,-88.9485C207.353,-80.2579 212.722,-70.8608 217.733,-62.0917\"/>\r\n",
       "<polygon fill=\"black\" stroke=\"black\" points=\"220.871,-63.6557 222.793,-53.2367 214.793,-60.1826 220.871,-63.6557\"/>\r\n",
       "</g>\r\n",
       "</g>\r\n",
       "</svg>\r\n"
      ],
      "text/plain": [
       "<graphviz.files.Source at 0x23116b9f438>"
      ]
     },
     "execution_count": 50,
     "metadata": {},
     "output_type": "execute_result"
    }
   ],
   "source": [
    "import graphviz \n",
    "\n",
    "# makes a graphical version of the decision tree\n",
    "dot_data = tree.export_graphviz(clf, out_file=None) \n",
    "graph = graphviz.Source(dot_data)\n",
    "\n",
    "# show in output\n",
    "graph\n",
    "\n",
    "\n",
    "#export as PDF (iris.pdf)\n",
    "#graph.render(\"iris\")"
   ]
  },
  {
   "cell_type": "code",
   "execution_count": 52,
   "metadata": {},
   "outputs": [
    {
     "name": "stdout",
     "output_type": "stream",
     "text": [
      "Counter({0: 984, 1: 10})\n",
      "Counter({0: 985, 1: 9})\n"
     ]
    }
   ],
   "source": [
    "import collections\n",
    "\n",
    "print('Prediction:',collections.Counter(y_pred))\n",
    "print('Test data:',collections.Counter(y_test))"
   ]
  },
  {
   "cell_type": "markdown",
   "metadata": {},
   "source": [
    "### KNN"
   ]
  },
  {
   "cell_type": "code",
   "execution_count": 54,
   "metadata": {},
   "outputs": [],
   "source": [
    "from sklearn.neighbors import KNeighborsClassifier\n",
    "\n",
    "# set x and y values\n",
    "#X = pd.DataFrame([[0], [1], [2], [3]])\n",
    "#y = pd.Series([0, 0, 1, 1])\n",
    "\n",
    "# clasify\n",
    "neigh = KNeighborsClassifier(n_neighbors=3)\n",
    "neigh.fit(X_train, y_train) \n",
    "\n",
    "# predict\n",
    "y_pred = neigh.predict(X_test)\n"
   ]
  },
  {
   "cell_type": "code",
   "execution_count": 56,
   "metadata": {},
   "outputs": [
    {
     "name": "stdout",
     "output_type": "stream",
     "text": [
      "Prediction: Counter({0: 991, 1: 3})\n",
      "Test data: Counter({0: 985, 1: 9})\n"
     ]
    }
   ],
   "source": [
    "print('Prediction:',collections.Counter(y_pred))\n",
    "print('Test data:',collections.Counter(y_test))"
   ]
  },
  {
   "cell_type": "markdown",
   "metadata": {},
   "source": [
    "### Nerual Network"
   ]
  },
  {
   "cell_type": "code",
   "execution_count": null,
   "metadata": {},
   "outputs": [
    {
     "name": "stdout",
     "output_type": "stream",
     "text": [
      "Train on 2981 samples, validate on 994 samples\n",
      "Epoch 1/80\n"
     ]
    }
   ],
   "source": [
    "from keras.models import Sequential\n",
    "from keras.layers import Dense, Activation\n",
    "from keras import optimizers\n",
    "\n",
    "# creating model object\n",
    "model = Sequential()\n",
    "\n",
    "# adding layers\n",
    "model.add(Dense(30, activation='relu', input_dim=X_train.shape[1],))\n",
    "model.add(Dense(20, activation='relu'))\n",
    "model.add(Dense(1, activation='sigmoid'))\n",
    "\n",
    "# tweaking settings\n",
    "adam = optimizers.Adam(lr=0.001, beta_1=0.9,\n",
    "beta_2=0.999, epsilon=1e-08, decay=0.0)\n",
    "model.compile(loss='mean_squared_error', optimizer=adam, metrics=['accuracy'])\n",
    "\n",
    "# fitting model\n",
    "history = model.fit(X_train.values,y_train.values, validation_data=(X_test.values,y_test.values),\n",
    "epochs = 80, batch_size=100, shuffle=False)\n",
    "y_pred = model.predict(X_test.values, batch_size = 1000)"
   ]
  },
  {
   "cell_type": "code",
   "execution_count": null,
   "metadata": {
    "collapsed": true
   },
   "outputs": [],
   "source": [
    "# true values plot\n",
    "plt.figure(figsize=(15,10))\n",
    "plt.subplot(2,2,1)\n",
    "plt.plot(X_test,y_test, ls='', marker='.');\n",
    "plt.title('True values');\n",
    "\n",
    "# predicted values plotb\n",
    "plt.subplot(2,2,2)\n",
    "plt.plot(X_test,y_pred, ls='', marker='.');\n",
    "plt.title('Predicted values');\n",
    "\n",
    "# Visualize accuracy performance\n",
    "plt.subplot(2,2,3)\n",
    "plt.plot(history.history['acc'])\n",
    "plt.plot(history.history['val_acc'])\n",
    "plt.title('Model accuracy')\n",
    "plt.ylabel('accuracy')\n",
    "plt.xlabel('epoch')\n",
    "plt.legend(['train', 'test'], loc='best')\n",
    "\n",
    "\n",
    "# Visualize loss performance (MSE)\n",
    "plt.subplot(2,2,4)\n",
    "plt.plot(history.history['loss'])\n",
    "plt.plot(history.history['val_loss'])\n",
    "plt.title('Model loss')\n",
    "plt.ylabel('loss')\n",
    "plt.xlabel('epoch')\n",
    "plt.legend(['train', 'test'], loc='best')\n",
    "plt.show()\n"
   ]
  },
  {
   "cell_type": "markdown",
   "metadata": {},
   "source": [
    "## Explain how a new observation is classified"
   ]
  },
  {
   "cell_type": "markdown",
   "metadata": {},
   "source": [
    "## Performance evaluation"
   ]
  },
  {
   "cell_type": "code",
   "execution_count": null,
   "metadata": {
    "collapsed": true
   },
   "outputs": [],
   "source": []
  }
 ],
 "metadata": {
  "kernelspec": {
   "display_name": "Python 3",
   "language": "python",
   "name": "python3"
  },
  "language_info": {
   "codemirror_mode": {
    "name": "ipython",
    "version": 3
   },
   "file_extension": ".py",
   "mimetype": "text/x-python",
   "name": "python",
   "nbconvert_exporter": "python",
   "pygments_lexer": "ipython3",
   "version": "3.6.3"
  }
 },
 "nbformat": 4,
 "nbformat_minor": 2
}
