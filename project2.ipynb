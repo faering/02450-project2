{
 "cells": [
  {
   "cell_type": "markdown",
   "metadata": {},
   "source": [
    "# Load data"
   ]
  },
  {
   "cell_type": "code",
   "execution_count": 1,
   "metadata": {
    "collapsed": true
   },
   "outputs": [],
   "source": [
    "import pandas as pd\n",
    "import seaborn as sns\n",
    "import missingno as msno\n",
    "import matplotlib.pyplot as plt\n",
    "import numpy as np"
   ]
  },
  {
   "cell_type": "code",
   "execution_count": 2,
   "metadata": {
    "scrolled": true
   },
   "outputs": [
    {
     "data": {
      "text/html": [
       "<div>\n",
       "<style>\n",
       "    .dataframe thead tr:only-child th {\n",
       "        text-align: right;\n",
       "    }\n",
       "\n",
       "    .dataframe thead th {\n",
       "        text-align: left;\n",
       "    }\n",
       "\n",
       "    .dataframe tbody tr th {\n",
       "        vertical-align: top;\n",
       "    }\n",
       "</style>\n",
       "<table border=\"1\" class=\"dataframe\">\n",
       "  <thead>\n",
       "    <tr style=\"text-align: right;\">\n",
       "      <th></th>\n",
       "      <th>color</th>\n",
       "      <th>director_name</th>\n",
       "      <th>num_critic_for_reviews</th>\n",
       "      <th>duration</th>\n",
       "      <th>director_facebook_likes</th>\n",
       "      <th>actor_3_facebook_likes</th>\n",
       "      <th>actor_2_name</th>\n",
       "      <th>actor_1_facebook_likes</th>\n",
       "      <th>gross</th>\n",
       "      <th>genres</th>\n",
       "      <th>...</th>\n",
       "      <th>num_user_for_reviews</th>\n",
       "      <th>language</th>\n",
       "      <th>country</th>\n",
       "      <th>content_rating</th>\n",
       "      <th>budget</th>\n",
       "      <th>title_year</th>\n",
       "      <th>actor_2_facebook_likes</th>\n",
       "      <th>imdb_score</th>\n",
       "      <th>aspect_ratio</th>\n",
       "      <th>movie_facebook_likes</th>\n",
       "    </tr>\n",
       "  </thead>\n",
       "  <tbody>\n",
       "    <tr>\n",
       "      <th>0</th>\n",
       "      <td>Color</td>\n",
       "      <td>James Cameron</td>\n",
       "      <td>723.0</td>\n",
       "      <td>178.0</td>\n",
       "      <td>0.0</td>\n",
       "      <td>855.0</td>\n",
       "      <td>Joel David Moore</td>\n",
       "      <td>1000.0</td>\n",
       "      <td>760505847.0</td>\n",
       "      <td>Action|Adventure|Fantasy|Sci-Fi</td>\n",
       "      <td>...</td>\n",
       "      <td>3054.0</td>\n",
       "      <td>English</td>\n",
       "      <td>USA</td>\n",
       "      <td>PG-13</td>\n",
       "      <td>237000000.0</td>\n",
       "      <td>2009.0</td>\n",
       "      <td>936.0</td>\n",
       "      <td>7.9</td>\n",
       "      <td>1.78</td>\n",
       "      <td>33000</td>\n",
       "    </tr>\n",
       "    <tr>\n",
       "      <th>1</th>\n",
       "      <td>Color</td>\n",
       "      <td>Gore Verbinski</td>\n",
       "      <td>302.0</td>\n",
       "      <td>169.0</td>\n",
       "      <td>563.0</td>\n",
       "      <td>1000.0</td>\n",
       "      <td>Orlando Bloom</td>\n",
       "      <td>40000.0</td>\n",
       "      <td>309404152.0</td>\n",
       "      <td>Action|Adventure|Fantasy</td>\n",
       "      <td>...</td>\n",
       "      <td>1238.0</td>\n",
       "      <td>English</td>\n",
       "      <td>USA</td>\n",
       "      <td>PG-13</td>\n",
       "      <td>300000000.0</td>\n",
       "      <td>2007.0</td>\n",
       "      <td>5000.0</td>\n",
       "      <td>7.1</td>\n",
       "      <td>2.35</td>\n",
       "      <td>0</td>\n",
       "    </tr>\n",
       "    <tr>\n",
       "      <th>2</th>\n",
       "      <td>Color</td>\n",
       "      <td>Sam Mendes</td>\n",
       "      <td>602.0</td>\n",
       "      <td>148.0</td>\n",
       "      <td>0.0</td>\n",
       "      <td>161.0</td>\n",
       "      <td>Rory Kinnear</td>\n",
       "      <td>11000.0</td>\n",
       "      <td>200074175.0</td>\n",
       "      <td>Action|Adventure|Thriller</td>\n",
       "      <td>...</td>\n",
       "      <td>994.0</td>\n",
       "      <td>English</td>\n",
       "      <td>UK</td>\n",
       "      <td>PG-13</td>\n",
       "      <td>245000000.0</td>\n",
       "      <td>2015.0</td>\n",
       "      <td>393.0</td>\n",
       "      <td>6.8</td>\n",
       "      <td>2.35</td>\n",
       "      <td>85000</td>\n",
       "    </tr>\n",
       "    <tr>\n",
       "      <th>3</th>\n",
       "      <td>Color</td>\n",
       "      <td>Christopher Nolan</td>\n",
       "      <td>813.0</td>\n",
       "      <td>164.0</td>\n",
       "      <td>22000.0</td>\n",
       "      <td>23000.0</td>\n",
       "      <td>Christian Bale</td>\n",
       "      <td>27000.0</td>\n",
       "      <td>448130642.0</td>\n",
       "      <td>Action|Thriller</td>\n",
       "      <td>...</td>\n",
       "      <td>2701.0</td>\n",
       "      <td>English</td>\n",
       "      <td>USA</td>\n",
       "      <td>PG-13</td>\n",
       "      <td>250000000.0</td>\n",
       "      <td>2012.0</td>\n",
       "      <td>23000.0</td>\n",
       "      <td>8.5</td>\n",
       "      <td>2.35</td>\n",
       "      <td>164000</td>\n",
       "    </tr>\n",
       "    <tr>\n",
       "      <th>4</th>\n",
       "      <td>NaN</td>\n",
       "      <td>Doug Walker</td>\n",
       "      <td>NaN</td>\n",
       "      <td>NaN</td>\n",
       "      <td>131.0</td>\n",
       "      <td>NaN</td>\n",
       "      <td>Rob Walker</td>\n",
       "      <td>131.0</td>\n",
       "      <td>NaN</td>\n",
       "      <td>Documentary</td>\n",
       "      <td>...</td>\n",
       "      <td>NaN</td>\n",
       "      <td>NaN</td>\n",
       "      <td>NaN</td>\n",
       "      <td>NaN</td>\n",
       "      <td>NaN</td>\n",
       "      <td>NaN</td>\n",
       "      <td>12.0</td>\n",
       "      <td>7.1</td>\n",
       "      <td>NaN</td>\n",
       "      <td>0</td>\n",
       "    </tr>\n",
       "  </tbody>\n",
       "</table>\n",
       "<p>5 rows × 28 columns</p>\n",
       "</div>"
      ],
      "text/plain": [
       "   color      director_name  num_critic_for_reviews  duration  \\\n",
       "0  Color      James Cameron                   723.0     178.0   \n",
       "1  Color     Gore Verbinski                   302.0     169.0   \n",
       "2  Color         Sam Mendes                   602.0     148.0   \n",
       "3  Color  Christopher Nolan                   813.0     164.0   \n",
       "4    NaN        Doug Walker                     NaN       NaN   \n",
       "\n",
       "   director_facebook_likes  actor_3_facebook_likes      actor_2_name  \\\n",
       "0                      0.0                   855.0  Joel David Moore   \n",
       "1                    563.0                  1000.0     Orlando Bloom   \n",
       "2                      0.0                   161.0      Rory Kinnear   \n",
       "3                  22000.0                 23000.0    Christian Bale   \n",
       "4                    131.0                     NaN        Rob Walker   \n",
       "\n",
       "   actor_1_facebook_likes        gross                           genres  \\\n",
       "0                  1000.0  760505847.0  Action|Adventure|Fantasy|Sci-Fi   \n",
       "1                 40000.0  309404152.0         Action|Adventure|Fantasy   \n",
       "2                 11000.0  200074175.0        Action|Adventure|Thriller   \n",
       "3                 27000.0  448130642.0                  Action|Thriller   \n",
       "4                   131.0          NaN                      Documentary   \n",
       "\n",
       "          ...          num_user_for_reviews language  country  content_rating  \\\n",
       "0         ...                        3054.0  English      USA           PG-13   \n",
       "1         ...                        1238.0  English      USA           PG-13   \n",
       "2         ...                         994.0  English       UK           PG-13   \n",
       "3         ...                        2701.0  English      USA           PG-13   \n",
       "4         ...                           NaN      NaN      NaN             NaN   \n",
       "\n",
       "        budget  title_year actor_2_facebook_likes imdb_score  aspect_ratio  \\\n",
       "0  237000000.0      2009.0                  936.0        7.9          1.78   \n",
       "1  300000000.0      2007.0                 5000.0        7.1          2.35   \n",
       "2  245000000.0      2015.0                  393.0        6.8          2.35   \n",
       "3  250000000.0      2012.0                23000.0        8.5          2.35   \n",
       "4          NaN         NaN                   12.0        7.1           NaN   \n",
       "\n",
       "  movie_facebook_likes  \n",
       "0                33000  \n",
       "1                    0  \n",
       "2                85000  \n",
       "3               164000  \n",
       "4                    0  \n",
       "\n",
       "[5 rows x 28 columns]"
      ]
     },
     "execution_count": 2,
     "metadata": {},
     "output_type": "execute_result"
    }
   ],
   "source": [
    "df = pd.Series()\n",
    "df['raw'] = pd.read_csv('./data/movie_metadata.csv')\n",
    "df['raw'].head()"
   ]
  },
  {
   "cell_type": "markdown",
   "metadata": {},
   "source": [
    "# Pre processing"
   ]
  },
  {
   "cell_type": "code",
   "execution_count": 3,
   "metadata": {},
   "outputs": [
    {
     "name": "stdout",
     "output_type": "stream",
     "text": [
      "Amount of lines containing N/A:\t\t2698\n",
      "Percent of lines containing N/A:\t53.50%\n"
     ]
    }
   ],
   "source": [
    "print('Amount of lines containing N/A:\\t\\t{}'.format(df['raw'].isnull().values.sum()))\n",
    "print('Percent of lines containing N/A:\\t{:.2f}%'.format(100*df['raw'].isnull().values.sum()/df['raw'].shape[0]))"
   ]
  },
  {
   "cell_type": "code",
   "execution_count": 4,
   "metadata": {},
   "outputs": [
    {
     "data": {
      "image/png": "[encoded data removed]",
      "text/plain": [
       "<matplotlib.figure.Figure at 0x1e92f34d4a8>"
      ]
     },
     "metadata": {},
     "output_type": "display_data"
    }
   ],
   "source": [
    "msno.matrix(df['raw'],figsize=(10,8))"
   ]
  },
  {
   "cell_type": "markdown",
   "metadata": {},
   "source": [
    "The N/A mostly lies in the actor 1 facebook likes column and the budget column.  \n",
    "The approach will be to investigate the result of just removing lines, and the result when the 2  columns mentioned above is removed before the N/A lines are removed.  \n",
    "Also the link to imdb should be removed."
   ]
  },
  {
   "cell_type": "code",
   "execution_count": 5,
   "metadata": {
    "scrolled": true
   },
   "outputs": [
    {
     "name": "stdout",
     "output_type": "stream",
     "text": [
      "Before columns are removed\n",
      "Amount of lines containing N/A:\t\t2698\n",
      "Percent of lines containing N/A:\t53.50%\n",
      "\n",
      "After columns are removed\n",
      "Amount of lines containing N/A:\t\t2206\n",
      "Percent of lines containing N/A:\t43.74%\n"
     ]
    }
   ],
   "source": [
    "del df['raw']['movie_imdb_link']\n",
    "del df['raw']['movie_title']\n",
    "df['no_na_row'] = df['raw'].dropna()\n",
    "df['no_na_col'] = pd.DataFrame.copy(df['raw'])\n",
    "del df['no_na_col']['budget']\n",
    "\n",
    "#Removing actor 1 facebook likes turn out to help very little.\n",
    "#del df['no_na_col']['actor_1_facebook_likes']del df['no_na_col']['budget']del df['no_na_col']['budget']del df['no_na_col']['budget']\n",
    "\n",
    "\n",
    "print('Before columns are removed')\n",
    "print('Amount of lines containing N/A:\\t\\t{}'.format(df['raw'].isnull().values.sum()))\n",
    "print('Percent of lines containing N/A:\\t{:.2f}%'.format(100*df['raw'].isnull().values.sum()/df['raw'].shape[0]))\n",
    "print('\\nAfter columns are removed')\n",
    "print('Amount of lines containing N/A:\\t\\t{}'.format(df['no_na_col'].isnull().values.sum()))\n",
    "print('Percent of lines containing N/A:\\t{:.2f}%'.format(100*df['no_na_col'].isnull().values.sum()/df['no_na_col'].shape[0]))\n",
    "\n",
    "df['no_na_col'] = df['no_na_col'].dropna()"
   ]
  },
  {
   "cell_type": "markdown",
   "metadata": {},
   "source": [
    "Now the data is cleaned, the text features should be k-coded"
   ]
  },
  {
   "cell_type": "code",
   "execution_count": 6,
   "metadata": {},
   "outputs": [
    {
     "name": "stderr",
     "output_type": "stream",
     "text": [
      "C:\\Users\\bok\\Anaconda3\\lib\\site-packages\\ipykernel_launcher.py:6: SettingWithCopyWarning: \n",
      "A value is trying to be set on a copy of a slice from a DataFrame.\n",
      "Try using .loc[row_indexer,col_indexer] = value instead\n",
      "\n",
      "See the caveats in the documentation: http://pandas.pydata.org/pandas-docs/stable/indexing.html#indexing-view-versus-copy\n",
      "  \n"
     ]
    }
   ],
   "source": [
    "#find all numeric column labels\n",
    "numeric_columns = df['no_na_row'].select_dtypes(include=[np.number]).columns.tolist()\n",
    "\n",
    "#standardize each column\n",
    "for column in numeric_columns:\n",
    "    df['no_na_row'][column] = ((df['no_na_row'][column]-df['no_na_row'][column].mean())/df['no_na_row'][column].std())\n",
    "\n",
    "\n",
    "numeric_columns = df['no_na_col'].select_dtypes(include=[np.number]).columns.tolist()\n",
    "for column in numeric_columns:\n",
    "    df['no_na_col'][column] = ((df['no_na_col'][column]-df['no_na_col'][column].mean())/df['no_na_col'][column].std())\n",
    "\n"
   ]
  },
  {
   "cell_type": "code",
   "execution_count": 7,
   "metadata": {
    "scrolled": false
   },
   "outputs": [
    {
     "data": {
      "text/plain": [
       "color                                                                    Color\n",
       "director_name                                                Christopher Nolan\n",
       "num_critic_for_reviews                                                 5.22974\n",
       "duration                                                               2.37306\n",
       "director_facebook_likes                                                6.90726\n",
       "actor_3_facebook_likes                                                 11.7348\n",
       "actor_2_name                                                    Christian Bale\n",
       "actor_1_facebook_likes                                                  1.2403\n",
       "gross                                                                  5.62471\n",
       "genres                                                         Action|Thriller\n",
       "actor_1_name                                                         Tom Hardy\n",
       "num_voted_users                                                        6.83071\n",
       "cast_total_facebook_likes                                              4.98018\n",
       "actor_3_name                                              Joseph Gordon-Levitt\n",
       "facenumber_in_poster                                                  -0.67462\n",
       "plot_keywords                deception|imprisonment|lawlessness|police offi...\n",
       "num_user_for_reviews                                                   5.74903\n",
       "language                                                               English\n",
       "country                                                                    USA\n",
       "content_rating                                                           PG-13\n",
       "budget                                                                0.901566\n",
       "title_year                                                            0.912554\n",
       "actor_2_facebook_likes                                                 4.61576\n",
       "imdb_score                                                             1.92637\n",
       "aspect_ratio                                                          0.676883\n",
       "movie_facebook_likes                                                   7.20528\n",
       "Name: 3, dtype: object"
      ]
     },
     "execution_count": 7,
     "metadata": {},
     "output_type": "execute_result"
    }
   ],
   "source": [
    "df['no_na_row'].loc[3]"
   ]
  },
  {
   "cell_type": "markdown",
   "metadata": {},
   "source": [
    "Removed columns:  \n",
    "IMDB_link  \n",
    "movie_title \n"
   ]
  },
  {
   "cell_type": "code",
   "execution_count": 8,
   "metadata": {},
   "outputs": [
    {
     "data": {
      "text/plain": [
       "Color               3632\n",
       " Black and White     124\n",
       "Name: color, dtype: int64"
      ]
     },
     "execution_count": 8,
     "metadata": {},
     "output_type": "execute_result"
    }
   ],
   "source": [
    "df['no_na_row']['color'].value_counts().head()"
   ]
  },
  {
   "cell_type": "code",
   "execution_count": 9,
   "metadata": {
    "scrolled": true
   },
   "outputs": [
    {
     "name": "stderr",
     "output_type": "stream",
     "text": [
      "C:\\Users\\bok\\Anaconda3\\lib\\site-packages\\ipykernel_launcher.py:4: SettingWithCopyWarning: \n",
      "A value is trying to be set on a copy of a slice from a DataFrame.\n",
      "Try using .loc[row_indexer,col_indexer] = value instead\n",
      "\n",
      "See the caveats in the documentation: http://pandas.pydata.org/pandas-docs/stable/indexing.html#indexing-view-versus-copy\n",
      "  after removing the cwd from sys.path.\n"
     ]
    }
   ],
   "source": [
    "#Maps atribute color as one hot notation \n",
    "d = {'Color': 1, ' Black and White': 0}\n",
    "df['no_na_col']['color'] = df['no_na_col']['color'].map(d)\n",
    "df['no_na_row']['color'] = df['no_na_row']['color'].map(d)\n",
    "df['no_na_col'] = df['no_na_col'].loc[: , ~df['no_na_col'].columns.duplicated()]\n",
    "df['no_na_row'] = df['no_na_row'].loc[: , ~df['no_na_row'].columns.duplicated()]\n",
    "\n",
    "#Maps single column in one hot notation\n",
    "df['no_na_row'] = pd.concat([df['no_na_row'],df['no_na_row']['language'].str.get_dummies()],axis=1)\n",
    "df['no_na_row'] = pd.concat([df['no_na_row'],df['no_na_row']['country'].str.get_dummies()],axis=1)\n",
    "df['no_na_row'] = pd.concat([df['no_na_row'],df['no_na_row']['content_rating'].str.get_dummies()],axis=1)\n",
    "df['no_na_col'] = pd.concat([df['no_na_col'],df['no_na_col']['language'].str.get_dummies()],axis=1)\n",
    "df['no_na_col'] = pd.concat([df['no_na_col'],df['no_na_col']['country'].str.get_dummies()],axis=1)\n",
    "df['no_na_col'] = pd.concat([df['no_na_col'],df['no_na_col']['content_rating'].str.get_dummies()],axis=1)\n",
    "\n",
    "#Maps multiword attribute to one hot notation\n",
    "df['no_na_row'] = pd.concat([df['no_na_row'], df['no_na_row']['plot_keywords'].str.get_dummies(sep='|')],axis=1)\n",
    "df['no_na_row'] = pd.concat([df['no_na_row'], df['no_na_row']['genres'].str.get_dummies(sep='|')],axis=1)\n",
    "df['no_na_col'] = pd.concat([df['no_na_col'], df['no_na_col']['plot_keywords'].str.get_dummies(sep='|')],axis=1)\n",
    "df['no_na_col'] = pd.concat([df['no_na_col'], df['no_na_col']['genres'].str.get_dummies(sep='|')],axis=1)\n",
    "\n",
    "#Maps multiple columns (actor 1,2,3) into \"was he in the movie\" one hot notation\n",
    "df['no_na_row'] = pd.concat([df['no_na_row'],df['no_na_row']['actor_2_name'].map(str).str.cat(df['no_na_row']['actor_1_name'].map(str),sep='|').str.cat(df['no_na_row']['actor_3_name'].map(str),sep='|').str.get_dummies(sep='|')],axis=1)\n",
    "df['no_na_col'] = pd.concat([df['no_na_col'],df['no_na_col']['actor_2_name'].map(str).str.cat(df['no_na_col']['actor_1_name'].map(str),sep='|').str.cat(df['no_na_col']['actor_3_name'].map(str),sep='|').str.get_dummies(sep='|')],axis=1)\n",
    "\n",
    "#clean up\n",
    "df['no_na_col'] = df['no_na_col'].drop(['genres','plot_keywords','actor_1_name','actor_2_name','actor_3_name','language',\n",
    "                    'country','content_rating' ],axis=1)\n",
    "df['no_na_row'] = df['no_na_row'].drop(['genres','plot_keywords','actor_1_name','actor_2_name','actor_3_name','language',\n",
    "                    'country','content_rating'],axis=1)"
   ]
  },
  {
   "cell_type": "markdown",
   "metadata": {},
   "source": [
    "For clustering, a version is made with a column \"is steven spielberg director\", and for the regression, a one hut of the directors are made."
   ]
  },
  {
   "cell_type": "code",
   "execution_count": 10,
   "metadata": {
    "collapsed": true
   },
   "outputs": [],
   "source": [
    "#copy the dataframe to two new dataframes\n",
    "df['c_no_na_row'] = pd.DataFrame.copy(df['no_na_row'])\n",
    "df['c_no_na_col'] = pd.DataFrame.copy(df['no_na_col'])\n",
    "\n",
    "\n",
    "#onehut of the director name for the row versions\n",
    "df['c_no_na_row']['SS_director'] = (df['no_na_row']['director_name'].str.contains('Steven Spielberg', na=0))\n",
    "df['r_no_na_row'] = pd.concat([df['no_na_row'], pd.get_dummies(df['no_na_row']['director_name'],prefix='Director_')], axis=1)\n",
    "\n",
    "#onehot of the director for the column versions\n",
    "df['c_no_na_col']['SS_director']=(df['no_na_col']['director_name'].str.contains('Steven Spielberg', na=0))\n",
    "df['r_no_na_col'] = pd.concat([df['no_na_col'], pd.get_dummies(df['no_na_col']['director_name'],prefix='Direcor_')], axis=1)\n",
    "\n",
    "#change false/true to 0/1\n",
    "df['c_no_na_col']['SS_director'] = df['c_no_na_col']['SS_director'].astype(int)\n",
    "df['c_no_na_row']['SS_director'] = df['c_no_na_row']['SS_director'].astype(int)\n",
    "\n",
    "# drop column director name\n",
    "del df['r_no_na_col']['director_name']\n",
    "del df['c_no_na_col']['director_name']\n",
    "del df['r_no_na_row']['director_name']\n",
    "del df['c_no_na_row']['director_name']\n",
    "\n",
    "# delete duplicate coler row\n",
    "df['r_no_na_col'] = df['r_no_na_col'].loc[: , ~df['r_no_na_col'].columns.duplicated()]\n",
    "df['r_no_na_row'] = df['r_no_na_row'].loc[: , ~df['r_no_na_row'].columns.duplicated()]\n"
   ]
  },
  {
   "cell_type": "markdown",
   "metadata": {},
   "source": [
    "Steven Spielberg is the director which occours most frequently in the dataset. It will be the focus to for the clustering, to cluster whether or not he directed the movie. There will be created 2 datasets, one for clustering and one for the regression part. One dataset will consist of a "
   ]
  },
  {
   "cell_type": "code",
   "execution_count": 11,
   "metadata": {},
   "outputs": [
    {
     "data": {
      "text/plain": [
       "(3975, 11777)"
      ]
     },
     "execution_count": 11,
     "metadata": {},
     "output_type": "execute_result"
    }
   ],
   "source": [
    "df['c_no_na_col'].shape"
   ]
  },
  {
   "cell_type": "code",
   "execution_count": 12,
   "metadata": {},
   "outputs": [
    {
     "data": {
      "text/plain": [
       "0"
      ]
     },
     "execution_count": 12,
     "metadata": {},
     "output_type": "execute_result"
    }
   ],
   "source": [
    "df['c_no_na_col'].isnull().values.sum()"
   ]
  },
  {
   "cell_type": "markdown",
   "metadata": {},
   "source": [
    "# Regression"
   ]
  },
  {
   "cell_type": "markdown",
   "metadata": {},
   "source": [
    "## Problem formulation\n",
    "Describe the problem you want to solve."
   ]
  },
  {
   "cell_type": "markdown",
   "metadata": {},
   "source": [
    "## Apply linear regression with forward selection\n",
    "Is transforming or combining attributes useful?\n",
    "- It can be useful to plot the residual error vs. the attribute."
   ]
  },
  {
   "cell_type": "markdown",
   "metadata": {},
   "source": [
    "## Explain how a new observation is predicted\n",
    "- Normalize"
   ]
  },
  {
   "cell_type": "markdown",
   "metadata": {},
   "source": [
    "## Neural network model fitting"
   ]
  },
  {
   "cell_type": "markdown",
   "metadata": {},
   "source": [
    "## Performance evalutation\n",
    "Neural network vs. linear regression\n",
    "- Use a paired t-test as described in lesson 6"
   ]
  },
  {
   "cell_type": "markdown",
   "metadata": {},
   "source": [
    "# Classification"
   ]
  },
  {
   "cell_type": "markdown",
   "metadata": {},
   "source": [
    "## Problem formulation\n",
    "For the classification, we will try to clasify wether steven spielberg was the director of the movie, or not.  \n",
    "The following three methods will be used for this:\n",
    "Decision Trees, K-Nearest Neighbors (KNN), Artificial Neural Networks (ANN).\n",
    "\n"
   ]
  },
  {
   "cell_type": "markdown",
   "metadata": {},
   "source": [
    "## Apply three of the given methods\n",
    "Two level cross validation\n"
   ]
  },
  {
   "cell_type": "markdown",
   "metadata": {},
   "source": [
    "### Decision trees"
   ]
  },
  {
   "cell_type": "code",
   "execution_count": 52,
   "metadata": {},
   "outputs": [
    {
     "data": {
      "text/plain": [
       "0"
      ]
     },
     "execution_count": 52,
     "metadata": {},
     "output_type": "execute_result"
    }
   ],
   "source": [
    "df['r_no_na_col'].isnull().values.sum()"
   ]
  },
  {
   "cell_type": "code",
   "execution_count": 15,
   "metadata": {
    "collapsed": true
   },
   "outputs": [],
   "source": [
    "from sklearn.model_selection import train_test_split\n",
    "X_train, X_test, y_train, y_test = train_test_split(df['c_no_na_col'].iloc[:, df['c_no_na_col'].columns != 'SS_director'],\n",
    "                                                    df['c_no_na_col']['SS_director'], \n",
    "                                                    test_size=0.25)"
   ]
  },
  {
   "cell_type": "code",
   "execution_count": 16,
   "metadata": {
    "collapsed": true
   },
   "outputs": [],
   "source": [
    "from sklearn import tree\n",
    "\n",
    "# set X and y values\n",
    "#X = pd.DataFrame([[0, 0], [1, 1]])\n",
    "#Y = pd.DataFrame(df['c_no_na_col'].shape)\n",
    "\n",
    "# clasify\n",
    "clf = tree.DecisionTreeClassifier()\n",
    "clf = clf.fit(X_train, y_train)\n",
    "\n",
    "#predict\n",
    "y_pred = clf.predict(X_test)\n"
   ]
  },
  {
   "cell_type": "code",
   "execution_count": 17,
   "metadata": {
    "scrolled": false
   },
   "outputs": [
    {
     "data": {
      "image/svg+xml": [
       "<?xml version=\"1.0\" encoding=\"UTF-8\" standalone=\"no\"?>\r\n",
       "<!DOCTYPE svg PUBLIC \"-//W3C//DTD SVG 1.1//EN\"\r\n",
       " \"http://www.w3.org/Graphics/SVG/1.1/DTD/svg11.dtd\">\r\n",
       "<!-- Generated by graphviz version 2.38.0 (20140413.2041)\r\n",
       " -->\r\n",
       "<!-- Title: Tree Pages: 1 -->\r\n",
       "<svg width=\"339pt\" height=\"477pt\"\r\n",
       " viewBox=\"0.00 0.00 339.00 477.00\" xmlns=\"http://www.w3.org/2000/svg\" xmlns:xlink=\"http://www.w3.org/1999/xlink\">\r\n",
       "<g id=\"graph0\" class=\"graph\" transform=\"scale(1 1) rotate(0) translate(4 473)\">\r\n",
       "<title>Tree</title>\r\n",
       "<polygon fill=\"white\" stroke=\"none\" points=\"-4,4 -4,-473 335,-473 335,4 -4,4\"/>\r\n",
       "<!-- 0 -->\r\n",
       "<g id=\"node1\" class=\"node\"><title>0</title>\r\n",
       "<polygon fill=\"none\" stroke=\"black\" points=\"219,-469 101,-469 101,-401 219,-401 219,-469\"/>\r\n",
       "<text text-anchor=\"middle\" x=\"160\" y=\"-453.8\" font-family=\"Times New Roman,serif\" font-size=\"14.00\">X[3] &lt;= 4.228</text>\r\n",
       "<text text-anchor=\"middle\" x=\"160\" y=\"-438.8\" font-family=\"Times New Roman,serif\" font-size=\"14.00\">gini = 0.014</text>\r\n",
       "<text text-anchor=\"middle\" x=\"160\" y=\"-423.8\" font-family=\"Times New Roman,serif\" font-size=\"14.00\">samples = 2981</text>\r\n",
       "<text text-anchor=\"middle\" x=\"160\" y=\"-408.8\" font-family=\"Times New Roman,serif\" font-size=\"14.00\">value = [2960, 21]</text>\r\n",
       "</g>\r\n",
       "<!-- 1 -->\r\n",
       "<g id=\"node2\" class=\"node\"><title>1</title>\r\n",
       "<polygon fill=\"none\" stroke=\"black\" points=\"152.5,-357.5 41.5,-357.5 41.5,-304.5 152.5,-304.5 152.5,-357.5\"/>\r\n",
       "<text text-anchor=\"middle\" x=\"97\" y=\"-342.3\" font-family=\"Times New Roman,serif\" font-size=\"14.00\">gini = 0.0</text>\r\n",
       "<text text-anchor=\"middle\" x=\"97\" y=\"-327.3\" font-family=\"Times New Roman,serif\" font-size=\"14.00\">samples = 2905</text>\r\n",
       "<text text-anchor=\"middle\" x=\"97\" y=\"-312.3\" font-family=\"Times New Roman,serif\" font-size=\"14.00\">value = [2905, 0]</text>\r\n",
       "</g>\r\n",
       "<!-- 0&#45;&gt;1 -->\r\n",
       "<g id=\"edge1\" class=\"edge\"><title>0&#45;&gt;1</title>\r\n",
       "<path fill=\"none\" stroke=\"black\" d=\"M139.546,-400.884C132.685,-389.776 125.024,-377.372 118.114,-366.184\"/>\r\n",
       "<polygon fill=\"black\" stroke=\"black\" points=\"120.995,-364.189 112.762,-357.52 115.039,-367.867 120.995,-364.189\"/>\r\n",
       "<text text-anchor=\"middle\" x=\"107.012\" y=\"-378.15\" font-family=\"Times New Roman,serif\" font-size=\"14.00\">True</text>\r\n",
       "</g>\r\n",
       "<!-- 2 -->\r\n",
       "<g id=\"node3\" class=\"node\"><title>2</title>\r\n",
       "<polygon fill=\"none\" stroke=\"black\" points=\"275,-365 171,-365 171,-297 275,-297 275,-365\"/>\r\n",
       "<text text-anchor=\"middle\" x=\"223\" y=\"-349.8\" font-family=\"Times New Roman,serif\" font-size=\"14.00\">X[3] &lt;= 4.56</text>\r\n",
       "<text text-anchor=\"middle\" x=\"223\" y=\"-334.8\" font-family=\"Times New Roman,serif\" font-size=\"14.00\">gini = 0.4</text>\r\n",
       "<text text-anchor=\"middle\" x=\"223\" y=\"-319.8\" font-family=\"Times New Roman,serif\" font-size=\"14.00\">samples = 76</text>\r\n",
       "<text text-anchor=\"middle\" x=\"223\" y=\"-304.8\" font-family=\"Times New Roman,serif\" font-size=\"14.00\">value = [55, 21]</text>\r\n",
       "</g>\r\n",
       "<!-- 0&#45;&gt;2 -->\r\n",
       "<g id=\"edge2\" class=\"edge\"><title>0&#45;&gt;2</title>\r\n",
       "<path fill=\"none\" stroke=\"black\" d=\"M180.454,-400.884C185.736,-392.332 191.492,-383.013 197.014,-374.072\"/>\r\n",
       "<polygon fill=\"black\" stroke=\"black\" points=\"200.156,-375.647 202.433,-365.299 194.2,-371.968 200.156,-375.647\"/>\r\n",
       "<text text-anchor=\"middle\" x=\"208.183\" y=\"-385.929\" font-family=\"Times New Roman,serif\" font-size=\"14.00\">False</text>\r\n",
       "</g>\r\n",
       "<!-- 3 -->\r\n",
       "<g id=\"node4\" class=\"node\"><title>3</title>\r\n",
       "<polygon fill=\"none\" stroke=\"black\" points=\"215,-261 111,-261 111,-193 215,-193 215,-261\"/>\r\n",
       "<text text-anchor=\"middle\" x=\"163\" y=\"-245.8\" font-family=\"Times New Roman,serif\" font-size=\"14.00\">X[7727] &lt;= 0.5</text>\r\n",
       "<text text-anchor=\"middle\" x=\"163\" y=\"-230.8\" font-family=\"Times New Roman,serif\" font-size=\"14.00\">gini = 0.219</text>\r\n",
       "<text text-anchor=\"middle\" x=\"163\" y=\"-215.8\" font-family=\"Times New Roman,serif\" font-size=\"14.00\">samples = 24</text>\r\n",
       "<text text-anchor=\"middle\" x=\"163\" y=\"-200.8\" font-family=\"Times New Roman,serif\" font-size=\"14.00\">value = [3, 21]</text>\r\n",
       "</g>\r\n",
       "<!-- 2&#45;&gt;3 -->\r\n",
       "<g id=\"edge3\" class=\"edge\"><title>2&#45;&gt;3</title>\r\n",
       "<path fill=\"none\" stroke=\"black\" d=\"M203.52,-296.884C198.49,-288.332 193.008,-279.013 187.748,-270.072\"/>\r\n",
       "<polygon fill=\"black\" stroke=\"black\" points=\"190.675,-268.144 182.588,-261.299 184.641,-271.693 190.675,-268.144\"/>\r\n",
       "</g>\r\n",
       "<!-- 8 -->\r\n",
       "<g id=\"node9\" class=\"node\"><title>8</title>\r\n",
       "<polygon fill=\"none\" stroke=\"black\" points=\"331,-253.5 233,-253.5 233,-200.5 331,-200.5 331,-253.5\"/>\r\n",
       "<text text-anchor=\"middle\" x=\"282\" y=\"-238.3\" font-family=\"Times New Roman,serif\" font-size=\"14.00\">gini = 0.0</text>\r\n",
       "<text text-anchor=\"middle\" x=\"282\" y=\"-223.3\" font-family=\"Times New Roman,serif\" font-size=\"14.00\">samples = 52</text>\r\n",
       "<text text-anchor=\"middle\" x=\"282\" y=\"-208.3\" font-family=\"Times New Roman,serif\" font-size=\"14.00\">value = [52, 0]</text>\r\n",
       "</g>\r\n",
       "<!-- 2&#45;&gt;8 -->\r\n",
       "<g id=\"edge8\" class=\"edge\"><title>2&#45;&gt;8</title>\r\n",
       "<path fill=\"none\" stroke=\"black\" d=\"M242.156,-296.884C248.581,-285.776 255.755,-273.372 262.227,-262.184\"/>\r\n",
       "<polygon fill=\"black\" stroke=\"black\" points=\"265.261,-263.929 267.238,-253.52 259.202,-260.424 265.261,-263.929\"/>\r\n",
       "</g>\r\n",
       "<!-- 4 -->\r\n",
       "<g id=\"node5\" class=\"node\"><title>4</title>\r\n",
       "<polygon fill=\"none\" stroke=\"black\" points=\"157,-157 53,-157 53,-89 157,-89 157,-157\"/>\r\n",
       "<text text-anchor=\"middle\" x=\"105\" y=\"-141.8\" font-family=\"Times New Roman,serif\" font-size=\"14.00\">X[6764] &lt;= 0.5</text>\r\n",
       "<text text-anchor=\"middle\" x=\"105\" y=\"-126.8\" font-family=\"Times New Roman,serif\" font-size=\"14.00\">gini = 0.087</text>\r\n",
       "<text text-anchor=\"middle\" x=\"105\" y=\"-111.8\" font-family=\"Times New Roman,serif\" font-size=\"14.00\">samples = 22</text>\r\n",
       "<text text-anchor=\"middle\" x=\"105\" y=\"-96.8\" font-family=\"Times New Roman,serif\" font-size=\"14.00\">value = [1, 21]</text>\r\n",
       "</g>\r\n",
       "<!-- 3&#45;&gt;4 -->\r\n",
       "<g id=\"edge4\" class=\"edge\"><title>3&#45;&gt;4</title>\r\n",
       "<path fill=\"none\" stroke=\"black\" d=\"M144.169,-192.884C139.307,-184.332 134.008,-175.013 128.923,-166.072\"/>\r\n",
       "<polygon fill=\"black\" stroke=\"black\" points=\"131.921,-164.262 123.935,-157.299 125.835,-167.722 131.921,-164.262\"/>\r\n",
       "</g>\r\n",
       "<!-- 7 -->\r\n",
       "<g id=\"node8\" class=\"node\"><title>7</title>\r\n",
       "<polygon fill=\"none\" stroke=\"black\" points=\"266.5,-149.5 175.5,-149.5 175.5,-96.5 266.5,-96.5 266.5,-149.5\"/>\r\n",
       "<text text-anchor=\"middle\" x=\"221\" y=\"-134.3\" font-family=\"Times New Roman,serif\" font-size=\"14.00\">gini = 0.0</text>\r\n",
       "<text text-anchor=\"middle\" x=\"221\" y=\"-119.3\" font-family=\"Times New Roman,serif\" font-size=\"14.00\">samples = 2</text>\r\n",
       "<text text-anchor=\"middle\" x=\"221\" y=\"-104.3\" font-family=\"Times New Roman,serif\" font-size=\"14.00\">value = [2, 0]</text>\r\n",
       "</g>\r\n",
       "<!-- 3&#45;&gt;7 -->\r\n",
       "<g id=\"edge7\" class=\"edge\"><title>3&#45;&gt;7</title>\r\n",
       "<path fill=\"none\" stroke=\"black\" d=\"M181.831,-192.884C188.085,-181.886 195.061,-169.617 201.373,-158.517\"/>\r\n",
       "<polygon fill=\"black\" stroke=\"black\" points=\"204.588,-159.943 206.489,-149.52 198.503,-156.483 204.588,-159.943\"/>\r\n",
       "</g>\r\n",
       "<!-- 5 -->\r\n",
       "<g id=\"node6\" class=\"node\"><title>5</title>\r\n",
       "<polygon fill=\"none\" stroke=\"black\" points=\"98,-53 0,-53 0,-0 98,-0 98,-53\"/>\r\n",
       "<text text-anchor=\"middle\" x=\"49\" y=\"-37.8\" font-family=\"Times New Roman,serif\" font-size=\"14.00\">gini = 0.0</text>\r\n",
       "<text text-anchor=\"middle\" x=\"49\" y=\"-22.8\" font-family=\"Times New Roman,serif\" font-size=\"14.00\">samples = 21</text>\r\n",
       "<text text-anchor=\"middle\" x=\"49\" y=\"-7.8\" font-family=\"Times New Roman,serif\" font-size=\"14.00\">value = [0, 21]</text>\r\n",
       "</g>\r\n",
       "<!-- 4&#45;&gt;5 -->\r\n",
       "<g id=\"edge5\" class=\"edge\"><title>4&#45;&gt;5</title>\r\n",
       "<path fill=\"none\" stroke=\"black\" d=\"M85.4139,-88.9485C80.2639,-80.2579 74.6953,-70.8608 69.4988,-62.0917\"/>\r\n",
       "<polygon fill=\"black\" stroke=\"black\" points=\"72.3605,-60.0553 64.2514,-53.2367 66.3384,-63.624 72.3605,-60.0553\"/>\r\n",
       "</g>\r\n",
       "<!-- 6 -->\r\n",
       "<g id=\"node7\" class=\"node\"><title>6</title>\r\n",
       "<polygon fill=\"none\" stroke=\"black\" points=\"207.5,-53 116.5,-53 116.5,-0 207.5,-0 207.5,-53\"/>\r\n",
       "<text text-anchor=\"middle\" x=\"162\" y=\"-37.8\" font-family=\"Times New Roman,serif\" font-size=\"14.00\">gini = 0.0</text>\r\n",
       "<text text-anchor=\"middle\" x=\"162\" y=\"-22.8\" font-family=\"Times New Roman,serif\" font-size=\"14.00\">samples = 1</text>\r\n",
       "<text text-anchor=\"middle\" x=\"162\" y=\"-7.8\" font-family=\"Times New Roman,serif\" font-size=\"14.00\">value = [1, 0]</text>\r\n",
       "</g>\r\n",
       "<!-- 4&#45;&gt;6 -->\r\n",
       "<g id=\"edge6\" class=\"edge\"><title>4&#45;&gt;6</title>\r\n",
       "<path fill=\"none\" stroke=\"black\" d=\"M124.936,-88.9485C130.233,-80.1664 135.965,-70.6629 141.302,-61.815\"/>\r\n",
       "<polygon fill=\"black\" stroke=\"black\" points=\"144.308,-63.6074 146.476,-53.2367 138.314,-59.9919 144.308,-63.6074\"/>\r\n",
       "</g>\r\n",
       "</g>\r\n",
       "</svg>\r\n"
      ],
      "text/plain": [
       "<graphviz.files.Source at 0x1e912270630>"
      ]
     },
     "execution_count": 17,
     "metadata": {},
     "output_type": "execute_result"
    }
   ],
   "source": [
    "import graphviz \n",
    "\n",
    "# makes a graphical version of the decision tree\n",
    "dot_data = tree.export_graphviz(clf, out_file=None) \n",
    "graph = graphviz.Source(dot_data)\n",
    "\n",
    "# show in output\n",
    "graph\n",
    "\n",
    "\n",
    "#export as PDF (iris.pdf)\n",
    "#graph.render(\"iris\")"
   ]
  },
  {
   "cell_type": "code",
   "execution_count": 18,
   "metadata": {},
   "outputs": [
    {
     "name": "stdout",
     "output_type": "stream",
     "text": [
      "Prediction: Counter({0: 989, 1: 5})\n",
      "Test data: Counter({0: 990, 1: 4})\n"
     ]
    }
   ],
   "source": [
    "import collections\n",
    "\n",
    "print('Prediction:',collections.Counter(y_pred))\n",
    "print('Test data:',collections.Counter(y_test))"
   ]
  },
  {
   "cell_type": "markdown",
   "metadata": {},
   "source": [
    "### KNN"
   ]
  },
  {
   "cell_type": "code",
   "execution_count": 19,
   "metadata": {
    "collapsed": true
   },
   "outputs": [],
   "source": [
    "from sklearn.neighbors import KNeighborsClassifier\n",
    "\n",
    "# set x and y values\n",
    "#X = pd.DataFrame([[0], [1], [2], [3]])\n",
    "#y = pd.Series([0, 0, 1, 1])\n",
    "\n",
    "# clasify\n",
    "neigh = KNeighborsClassifier(n_neighbors=3)\n",
    "neigh.fit(X_train, y_train) \n",
    "\n",
    "# predict\n",
    "y_pred = neigh.predict(X_test)\n"
   ]
  },
  {
   "cell_type": "code",
   "execution_count": 20,
   "metadata": {},
   "outputs": [
    {
     "name": "stdout",
     "output_type": "stream",
     "text": [
      "Prediction: Counter({0: 985, 1: 9})\n",
      "Test data: Counter({0: 990, 1: 4})\n"
     ]
    }
   ],
   "source": [
    "print('Prediction:',collections.Counter(y_pred))\n",
    "print('Test data:',collections.Counter(y_test))"
   ]
  },
  {
   "cell_type": "markdown",
   "metadata": {},
   "source": [
    "### Nerual Network"
   ]
  },
  {
   "cell_type": "code",
   "execution_count": 47,
   "metadata": {},
   "outputs": [
    {
     "name": "stdout",
     "output_type": "stream",
     "text": [
      "Train on 2981 samples, validate on 994 samples\n",
      "Epoch 1/80\n",
      "2981/2981 [==============================] - 0s - loss: 0.3983 - acc: 0.9400 - val_loss: 0.0620 - val_acc: 0.9960\n",
      "Epoch 2/80\n",
      "2981/2981 [==============================] - 0s - loss: 0.0301 - acc: 0.9930 - val_loss: 0.0150 - val_acc: 0.9960\n",
      "Epoch 3/80\n",
      "2981/2981 [==============================] - 0s - loss: 0.0133 - acc: 0.9930 - val_loss: 0.0135 - val_acc: 0.9960\n",
      "Epoch 4/80\n",
      "2981/2981 [==============================] - 0s - loss: 0.0091 - acc: 0.9930 - val_loss: 0.0125 - val_acc: 0.9960\n",
      "Epoch 5/80\n",
      "2981/2981 [==============================] - 0s - loss: 0.0064 - acc: 0.9953 - val_loss: 0.0123 - val_acc: 0.9960\n",
      "Epoch 6/80\n",
      "2981/2981 [==============================] - 0s - loss: 0.0045 - acc: 1.0000 - val_loss: 0.0127 - val_acc: 0.9960\n",
      "Epoch 7/80\n",
      "2981/2981 [==============================] - 0s - loss: 0.0028 - acc: 1.0000 - val_loss: 0.0127 - val_acc: 0.9950\n",
      "Epoch 8/80\n",
      "2981/2981 [==============================] - 0s - loss: 0.0012 - acc: 1.0000 - val_loss: 0.0127 - val_acc: 0.9950\n",
      "Epoch 9/80\n",
      "2981/2981 [==============================] - 0s - loss: 5.5584e-04 - acc: 1.0000 - val_loss: 0.0128 - val_acc: 0.9950\n",
      "Epoch 10/80\n",
      "2981/2981 [==============================] - 0s - loss: 3.0903e-04 - acc: 1.0000 - val_loss: 0.0130 - val_acc: 0.9950\n",
      "Epoch 11/80\n",
      "2981/2981 [==============================] - 0s - loss: 1.9809e-04 - acc: 1.0000 - val_loss: 0.0131 - val_acc: 0.9950\n",
      "Epoch 12/80\n",
      "2981/2981 [==============================] - 0s - loss: 1.3964e-04 - acc: 1.0000 - val_loss: 0.0133 - val_acc: 0.9950\n",
      "Epoch 13/80\n",
      "2981/2981 [==============================] - 0s - loss: 1.0474e-04 - acc: 1.0000 - val_loss: 0.0135 - val_acc: 0.9950\n",
      "Epoch 14/80\n",
      "2981/2981 [==============================] - 0s - loss: 8.2022e-05 - acc: 1.0000 - val_loss: 0.0136 - val_acc: 0.9950\n",
      "Epoch 15/80\n",
      "2981/2981 [==============================] - 0s - loss: 6.6386e-05 - acc: 1.0000 - val_loss: 0.0138 - val_acc: 0.9950\n",
      "Epoch 16/80\n",
      "2981/2981 [==============================] - 0s - loss: 5.5001e-05 - acc: 1.0000 - val_loss: 0.0139 - val_acc: 0.9950\n",
      "Epoch 17/80\n",
      "2981/2981 [==============================] - 0s - loss: 4.6480e-05 - acc: 1.0000 - val_loss: 0.0139 - val_acc: 0.9950\n",
      "Epoch 18/80\n",
      "2981/2981 [==============================] - 0s - loss: 3.9831e-05 - acc: 1.0000 - val_loss: 0.0140 - val_acc: 0.9950\n",
      "Epoch 19/80\n",
      "2981/2981 [==============================] - 0s - loss: 3.4548e-05 - acc: 1.0000 - val_loss: 0.0141 - val_acc: 0.9950\n",
      "Epoch 20/80\n",
      "2981/2981 [==============================] - 0s - loss: 3.0272e-05 - acc: 1.0000 - val_loss: 0.0142 - val_acc: 0.9950\n",
      "Epoch 21/80\n",
      "2981/2981 [==============================] - 0s - loss: 2.6756e-05 - acc: 1.0000 - val_loss: 0.0143 - val_acc: 0.9950\n",
      "Epoch 22/80\n",
      "2981/2981 [==============================] - 0s - loss: 2.3836e-05 - acc: 1.0000 - val_loss: 0.0143 - val_acc: 0.9950\n",
      "Epoch 23/80\n",
      "2981/2981 [==============================] - 0s - loss: 2.1368e-05 - acc: 1.0000 - val_loss: 0.0144 - val_acc: 0.9950\n",
      "Epoch 24/80\n",
      "2981/2981 [==============================] - 0s - loss: 1.9272e-05 - acc: 1.0000 - val_loss: 0.0145 - val_acc: 0.9950\n",
      "Epoch 25/80\n",
      "2981/2981 [==============================] - 0s - loss: 1.7473e-05 - acc: 1.0000 - val_loss: 0.0145 - val_acc: 0.9950\n",
      "Epoch 26/80\n",
      "2981/2981 [==============================] - 0s - loss: 1.5909e-05 - acc: 1.0000 - val_loss: 0.0146 - val_acc: 0.9950\n",
      "Epoch 27/80\n",
      "2981/2981 [==============================] - 0s - loss: 1.4550e-05 - acc: 1.0000 - val_loss: 0.0147 - val_acc: 0.9950\n",
      "Epoch 28/80\n",
      "2981/2981 [==============================] - 0s - loss: 1.3354e-05 - acc: 1.0000 - val_loss: 0.0147 - val_acc: 0.9950\n",
      "Epoch 29/80\n",
      "2981/2981 [==============================] - 0s - loss: 1.2288e-05 - acc: 1.0000 - val_loss: 0.0148 - val_acc: 0.9950\n",
      "Epoch 30/80\n",
      "2981/2981 [==============================] - 0s - loss: 1.1342e-05 - acc: 1.0000 - val_loss: 0.0148 - val_acc: 0.9950\n",
      "Epoch 31/80\n",
      "2981/2981 [==============================] - 0s - loss: 1.0500e-05 - acc: 1.0000 - val_loss: 0.0149 - val_acc: 0.9950\n",
      "Epoch 32/80\n",
      "2981/2981 [==============================] - 0s - loss: 9.7511e-06 - acc: 1.0000 - val_loss: 0.0149 - val_acc: 0.9950\n",
      "Epoch 33/80\n",
      "2981/2981 [==============================] - 0s - loss: 9.0804e-06 - acc: 1.0000 - val_loss: 0.0150 - val_acc: 0.9950\n",
      "Epoch 34/80\n",
      "2981/2981 [==============================] - 0s - loss: 8.4745e-06 - acc: 1.0000 - val_loss: 0.0150 - val_acc: 0.9950\n",
      "Epoch 35/80\n",
      "2981/2981 [==============================] - 0s - loss: 7.9293e-06 - acc: 1.0000 - val_loss: 0.0151 - val_acc: 0.9950\n",
      "Epoch 36/80\n",
      "2981/2981 [==============================] - 0s - loss: 7.4319e-06 - acc: 1.0000 - val_loss: 0.0151 - val_acc: 0.9950\n",
      "Epoch 37/80\n",
      "2981/2981 [==============================] - 0s - loss: 6.9792e-06 - acc: 1.0000 - val_loss: 0.0152 - val_acc: 0.9950\n",
      "Epoch 38/80\n",
      "2981/2981 [==============================] - 0s - loss: 6.5637e-06 - acc: 1.0000 - val_loss: 0.0152 - val_acc: 0.9950\n",
      "Epoch 39/80\n",
      "2981/2981 [==============================] - 0s - loss: 6.1845e-06 - acc: 1.0000 - val_loss: 0.0152 - val_acc: 0.9950\n",
      "Epoch 40/80\n",
      "2981/2981 [==============================] - 0s - loss: 5.8358e-06 - acc: 1.0000 - val_loss: 0.0153 - val_acc: 0.9950\n",
      "Epoch 41/80\n",
      "2981/2981 [==============================] - 0s - loss: 5.5148e-06 - acc: 1.0000 - val_loss: 0.0153 - val_acc: 0.9950\n",
      "Epoch 42/80\n",
      "2981/2981 [==============================] - 0s - loss: 5.2196e-06 - acc: 1.0000 - val_loss: 0.0154 - val_acc: 0.9950\n",
      "Epoch 43/80\n",
      "2981/2981 [==============================] - 0s - loss: 4.9455e-06 - acc: 1.0000 - val_loss: 0.0154 - val_acc: 0.9950\n",
      "Epoch 44/80\n",
      "2981/2981 [==============================] - 0s - loss: 4.6921e-06 - acc: 1.0000 - val_loss: 0.0154 - val_acc: 0.9950\n",
      "Epoch 45/80\n",
      "2981/2981 [==============================] - 0s - loss: 4.4571e-06 - acc: 1.0000 - val_loss: 0.0155 - val_acc: 0.9950\n",
      "Epoch 46/80\n",
      "2981/2981 [==============================] - 0s - loss: 4.2387e-06 - acc: 1.0000 - val_loss: 0.0155 - val_acc: 0.9950\n",
      "Epoch 47/80\n",
      "2981/2981 [==============================] - 0s - loss: 4.0351e-06 - acc: 1.0000 - val_loss: 0.0156 - val_acc: 0.9950\n",
      "Epoch 48/80\n",
      "2981/2981 [==============================] - 0s - loss: 3.8454e-06 - acc: 1.0000 - val_loss: 0.0156 - val_acc: 0.9950\n",
      "Epoch 49/80\n",
      "2981/2981 [==============================] - 0s - loss: 3.6690e-06 - acc: 1.0000 - val_loss: 0.0156 - val_acc: 0.9950\n",
      "Epoch 50/80\n",
      "2981/2981 [==============================] - 0s - loss: 3.5022e-06 - acc: 1.0000 - val_loss: 0.0157 - val_acc: 0.9950\n",
      "Epoch 51/80\n",
      "2981/2981 [==============================] - 0s - loss: 3.3467e-06 - acc: 1.0000 - val_loss: 0.0157 - val_acc: 0.9950\n",
      "Epoch 52/80\n",
      "2981/2981 [==============================] - 0s - loss: 3.2010e-06 - acc: 1.0000 - val_loss: 0.0157 - val_acc: 0.9950\n",
      "Epoch 53/80\n",
      "2981/2981 [==============================] - 0s - loss: 3.0637e-06 - acc: 1.0000 - val_loss: 0.0158 - val_acc: 0.9950\n",
      "Epoch 54/80\n",
      "2981/2981 [==============================] - 0s - loss: 2.9347e-06 - acc: 1.0000 - val_loss: 0.0158 - val_acc: 0.9950\n",
      "Epoch 55/80\n",
      "2981/2981 [==============================] - 0s - loss: 2.8135e-06 - acc: 1.0000 - val_loss: 0.0158 - val_acc: 0.9950\n",
      "Epoch 56/80\n",
      "2981/2981 [==============================] - 0s - loss: 2.6989e-06 - acc: 1.0000 - val_loss: 0.0159 - val_acc: 0.9950\n",
      "Epoch 57/80\n",
      "2981/2981 [==============================] - 0s - loss: 2.5911e-06 - acc: 1.0000 - val_loss: 0.0159 - val_acc: 0.9950\n",
      "Epoch 58/80\n",
      "2981/2981 [==============================] - 0s - loss: 2.4893e-06 - acc: 1.0000 - val_loss: 0.0159 - val_acc: 0.9950\n",
      "Epoch 59/80\n",
      "2981/2981 [==============================] - 0s - loss: 2.3924e-06 - acc: 1.0000 - val_loss: 0.0160 - val_acc: 0.9950\n",
      "Epoch 60/80\n",
      "2981/2981 [==============================] - 0s - loss: 2.3010e-06 - acc: 1.0000 - val_loss: 0.0160 - val_acc: 0.9950\n",
      "Epoch 61/80\n",
      "2981/2981 [==============================] - 0s - loss: 2.2143e-06 - acc: 1.0000 - val_loss: 0.0160 - val_acc: 0.9950\n",
      "Epoch 62/80\n",
      "2981/2981 [==============================] - 0s - loss: 2.1324e-06 - acc: 1.0000 - val_loss: 0.0160 - val_acc: 0.9950\n",
      "Epoch 63/80\n"
     ]
    },
    {
     "name": "stdout",
     "output_type": "stream",
     "text": [
      "2981/2981 [==============================] - 0s - loss: 2.0544e-06 - acc: 1.0000 - val_loss: 0.0161 - val_acc: 0.9950\n",
      "Epoch 64/80\n",
      "2981/2981 [==============================] - 0s - loss: 1.9805e-06 - acc: 1.0000 - val_loss: 0.0161 - val_acc: 0.9950\n",
      "Epoch 65/80\n",
      "2981/2981 [==============================] - 0s - loss: 1.9098e-06 - acc: 1.0000 - val_loss: 0.0161 - val_acc: 0.9950\n",
      "Epoch 66/80\n",
      "2981/2981 [==============================] - 0s - loss: 1.8430e-06 - acc: 1.0000 - val_loss: 0.0162 - val_acc: 0.9950\n",
      "Epoch 67/80\n",
      "2981/2981 [==============================] - 0s - loss: 1.7791e-06 - acc: 1.0000 - val_loss: 0.0162 - val_acc: 0.9950\n",
      "Epoch 68/80\n",
      "2981/2981 [==============================] - 0s - loss: 1.7182e-06 - acc: 1.0000 - val_loss: 0.0162 - val_acc: 0.9950\n",
      "Epoch 69/80\n",
      "2981/2981 [==============================] - 0s - loss: 1.6602e-06 - acc: 1.0000 - val_loss: 0.0162 - val_acc: 0.9950\n",
      "Epoch 70/80\n",
      "2981/2981 [==============================] - 0s - loss: 1.6049e-06 - acc: 1.0000 - val_loss: 0.0163 - val_acc: 0.9950\n",
      "Epoch 71/80\n",
      "2981/2981 [==============================] - 0s - loss: 1.5522e-06 - acc: 1.0000 - val_loss: 0.0163 - val_acc: 0.9950\n",
      "Epoch 72/80\n",
      "2981/2981 [==============================] - 0s - loss: 1.5015e-06 - acc: 1.0000 - val_loss: 0.0163 - val_acc: 0.9950\n",
      "Epoch 73/80\n",
      "2981/2981 [==============================] - 0s - loss: 1.4533e-06 - acc: 1.0000 - val_loss: 0.0163 - val_acc: 0.9950\n",
      "Epoch 74/80\n",
      "2981/2981 [==============================] - 0s - loss: 1.4070e-06 - acc: 1.0000 - val_loss: 0.0164 - val_acc: 0.9950\n",
      "Epoch 75/80\n",
      "2981/2981 [==============================] - 0s - loss: 1.3627e-06 - acc: 1.0000 - val_loss: 0.0164 - val_acc: 0.9950\n",
      "Epoch 76/80\n",
      "2981/2981 [==============================] - 0s - loss: 1.3201e-06 - acc: 1.0000 - val_loss: 0.0164 - val_acc: 0.9950\n",
      "Epoch 77/80\n",
      "2981/2981 [==============================] - 0s - loss: 1.2796e-06 - acc: 1.0000 - val_loss: 0.0164 - val_acc: 0.9950\n",
      "Epoch 78/80\n",
      "2981/2981 [==============================] - 0s - loss: 1.2406e-06 - acc: 1.0000 - val_loss: 0.0165 - val_acc: 0.9950\n",
      "Epoch 79/80\n",
      "2981/2981 [==============================] - 0s - loss: 1.2033e-06 - acc: 1.0000 - val_loss: 0.0165 - val_acc: 0.9950\n",
      "Epoch 80/80\n",
      "2981/2981 [==============================] - 0s - loss: 1.1675e-06 - acc: 1.0000 - val_loss: 0.0165 - val_acc: 0.9950\n"
     ]
    }
   ],
   "source": [
    "from keras.models import Sequential\n",
    "from keras.layers import Dense, Activation\n",
    "from keras import optimizers\n",
    "\n",
    "# creating model object\n",
    "model = Sequential()\n",
    "\n",
    "# adding layers\n",
    "model.add(Dense(100, activation='relu', input_dim=X_train.shape[1],))\n",
    "model.add(Dense(50, activation='relu'))\n",
    "model.add(Dense(10, activation='relu'))\n",
    "model.add(Dense(1, activation='sigmoid'))\n",
    "\n",
    "# tweaking settings\n",
    "adam = optimizers.Adam(lr=0.001, beta_1=0.9,\n",
    "beta_2=0.999, epsilon=1e-08, decay=0.0)\n",
    "model.compile(loss='binary_crossentropy', optimizer=adam, metrics=['accuracy'])\n",
    "\n",
    "# fitting model\n",
    "history = model.fit(X_train.values,y_train.values, validation_data=(X_test.values,y_test.values),\n",
    "epochs = 80, batch_size=100, shuffle=False)\n",
    "y_pred = model.predict(X_test.values, batch_size = 1000)"
   ]
  },
  {
   "cell_type": "code",
   "execution_count": 49,
   "metadata": {
    "scrolled": false
   },
   "outputs": [
    {
     "data": {
      "image/png": "[encoded data removed]",
      "text/plain": [
       "<matplotlib.figure.Figure at 0x1e911d7a4e0>"
      ]
     },
     "metadata": {},
     "output_type": "display_data"
    }
   ],
   "source": [
    "# true values plot\n",
    "plt.figure(figsize=(15,10))\n",
    "plt.subplot(2,2,1)\n",
    "plt.plot(X_test,y_test, ls='', marker='.');\n",
    "plt.title('True values');\n",
    "\n",
    "# predicted values plotb\n",
    "plt.subplot(2,2,2)\n",
    "plt.plot(X_test,y_pred, ls='', marker='.');\n",
    "plt.title('Predicted values');\n",
    "\n",
    "# Visualize accuracy performance\n",
    "plt.subplot(2,2,3)\n",
    "plt.plot(history.history['acc'])\n",
    "plt.plot(history.history['val_acc'])\n",
    "plt.title('Model accuracy')\n",
    "plt.ylabel('accuracy')\n",
    "plt.xlabel('epoch')\n",
    "plt.legend(['train', 'test'], loc='best')\n",
    "\n",
    "\n",
    "# Visualize loss performance (MSE)\n",
    "plt.subplot(2,2,4)\n",
    "plt.plot(history.history['loss'])\n",
    "plt.plot(history.history['val_loss'])\n",
    "plt.title('Model loss')\n",
    "plt.ylabel('loss')\n",
    "plt.xlabel('epoch')\n",
    "plt.legend(['train', 'test'], loc='best')\n",
    "plt.show()\n"
   ]
  },
  {
   "cell_type": "code",
   "execution_count": 48,
   "metadata": {},
   "outputs": [
    {
     "name": "stdout",
     "output_type": "stream",
     "text": [
      "Prediction: Counter({0: 993, 1: 1})\n",
      "Test data: Counter({0: 990, 1: 4})\n"
     ]
    }
   ],
   "source": [
    "rounded = [int(round(x[0])) for x in y_pred]\n",
    "print('Prediction:',collections.Counter(rounded))\n",
    "print('Test data:',collections.Counter(y_test))\n",
    "\n"
   ]
  },
  {
   "cell_type": "markdown",
   "metadata": {},
   "source": [
    "## Explain how a new observation is classified"
   ]
  },
  {
   "cell_type": "markdown",
   "metadata": {},
   "source": [
    "## Performance evaluation"
   ]
  },
  {
   "cell_type": "code",
   "execution_count": 38,
   "metadata": {},
   "outputs": [
    {
     "data": {
      "text/plain": [
       "11776"
      ]
     },
     "execution_count": 38,
     "metadata": {},
     "output_type": "execute_result"
    }
   ],
   "source": [
    "X_train.shape[1]"
   ]
  },
  {
   "cell_type": "code",
   "execution_count": null,
   "metadata": {
    "collapsed": true
   },
   "outputs": [],
   "source": []
  }
 ],
 "metadata": {
  "kernelspec": {
   "display_name": "Python 3",
   "language": "python",
   "name": "python3"
  },
  "language_info": {
   "codemirror_mode": {
    "name": "ipython",
    "version": 3
   },
   "file_extension": ".py",
   "mimetype": "text/x-python",
   "name": "python",
   "nbconvert_exporter": "python",
   "pygments_lexer": "ipython3",
   "version": "3.6.3"
  }
 },
 "nbformat": 4,
 "nbformat_minor": 2
}
